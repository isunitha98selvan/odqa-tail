{
 "cells": [
  {
   "cell_type": "code",
   "execution_count": 1,
   "id": "dc125970",
   "metadata": {},
   "outputs": [],
   "source": [
    "import requests\n",
    "\n",
    "# Specify the QID of the Wikidata entity for which you want to retrieve aliases\n",
    "\n",
    "def get_alias(qid):\n",
    "    # Define the API endpoint URL\n",
    "    url = f\"https://www.wikidata.org/w/api.php?action=wbgetentities&format=json&ids={qid}&props=aliases\"\n",
    "\n",
    "    # Send GET request to the API endpoint\n",
    "    response = requests.get(url)\n",
    "\n",
    "    # Parse the JSON response\n",
    "    data = response.json()\n",
    "\n",
    "    # Extract the aliases from the response\n",
    "    try:\n",
    "        aliases = data[\"entities\"][qid][\"aliases\"]\n",
    "\n",
    "        # Print the aliases\n",
    "\n",
    "        alias_res = []\n",
    "        for lang, alias_list in aliases.items():\n",
    "            if lang == \"en\":\n",
    "                for alias in alias_list:\n",
    "                    alias_res.append(alias[\"value\"])\n",
    "                break\n",
    "    except:\n",
    "        alias_res = []\n",
    "\n",
    "    return alias_res"
   ]
  },
  {
   "cell_type": "code",
   "execution_count": 34,
   "id": "caf187a2",
   "metadata": {},
   "outputs": [
    {
     "data": {
      "text/html": [
       "<div>\n",
       "<style scoped>\n",
       "    .dataframe tbody tr th:only-of-type {\n",
       "        vertical-align: middle;\n",
       "    }\n",
       "\n",
       "    .dataframe tbody tr th {\n",
       "        vertical-align: top;\n",
       "    }\n",
       "\n",
       "    .dataframe thead th {\n",
       "        text-align: right;\n",
       "    }\n",
       "</style>\n",
       "<table border=\"1\" class=\"dataframe\">\n",
       "  <thead>\n",
       "    <tr style=\"text-align: right;\">\n",
       "      <th></th>\n",
       "      <th>question</th>\n",
       "      <th>answers</th>\n",
       "      <th>ctxs</th>\n",
       "    </tr>\n",
       "  </thead>\n",
       "  <tbody>\n",
       "    <tr>\n",
       "      <th>0</th>\n",
       "      <td>What is the main subject of Someone's Knocking...</td>\n",
       "      <td>['serial killer']</td>\n",
       "      <td>[{'id': 'wiki:224490', 'title': 'Knock-knock j...</td>\n",
       "    </tr>\n",
       "    <tr>\n",
       "      <th>1</th>\n",
       "      <td>Which conflict was David Peel Yates involved in?</td>\n",
       "      <td>['World War II']</td>\n",
       "      <td>[{'id': 'wiki:17380406', 'title': 'Rob Ford co...</td>\n",
       "    </tr>\n",
       "    <tr>\n",
       "      <th>2</th>\n",
       "      <td>Who developed Akiba's Trip: Undead &amp; Undressed?</td>\n",
       "      <td>['Acquire']</td>\n",
       "      <td>[{'id': 'wiki:17528252', 'title': \"Akiba's Tri...</td>\n",
       "    </tr>\n",
       "    <tr>\n",
       "      <th>3</th>\n",
       "      <td>Which military branch is Lewis Burwell Puller,...</td>\n",
       "      <td>['United States Marine Corps']</td>\n",
       "      <td>[{'id': 'wiki:1946530', 'title': 'Private mili...</td>\n",
       "    </tr>\n",
       "    <tr>\n",
       "      <th>4</th>\n",
       "      <td>What is Robert Mardian's gender?</td>\n",
       "      <td>['male']</td>\n",
       "      <td>[{'id': 'wiki:14882303', 'title': 'Marra langu...</td>\n",
       "    </tr>\n",
       "  </tbody>\n",
       "</table>\n",
       "</div>"
      ],
      "text/plain": [
       "                                            question  \\\n",
       "0  What is the main subject of Someone's Knocking...   \n",
       "1   Which conflict was David Peel Yates involved in?   \n",
       "2    Who developed Akiba's Trip: Undead & Undressed?   \n",
       "3  Which military branch is Lewis Burwell Puller,...   \n",
       "4                   What is Robert Mardian's gender?   \n",
       "\n",
       "                          answers  \\\n",
       "0               ['serial killer']   \n",
       "1                ['World War II']   \n",
       "2                     ['Acquire']   \n",
       "3  ['United States Marine Corps']   \n",
       "4                        ['male']   \n",
       "\n",
       "                                                ctxs  \n",
       "0  [{'id': 'wiki:224490', 'title': 'Knock-knock j...  \n",
       "1  [{'id': 'wiki:17380406', 'title': 'Rob Ford co...  \n",
       "2  [{'id': 'wiki:17528252', 'title': \"Akiba's Tri...  \n",
       "3  [{'id': 'wiki:1946530', 'title': 'Private mili...  \n",
       "4  [{'id': 'wiki:14882303', 'title': 'Marra langu...  "
      ]
     },
     "execution_count": 34,
     "metadata": {},
     "output_type": "execute_result"
    }
   ],
   "source": [
    "import pandas as pd\n",
    "\n",
    "df_orig = pd.read_csv(\"/home/youngmik/wikidata/data/head_triplets_30k.tsv\", sep='\\t')\n",
    "df = pd.read_csv(\"/home/selvansr/capstone/wikipedia/baseline_data/head2.0_1ksampled.csv\")\n",
    "# df = pd.read_csv(\"/home/selvansr/capstone/wikipedia/baseline_data/sampled_tail2.0.csv\")\n",
    "df.head()"
   ]
  },
  {
   "cell_type": "code",
   "execution_count": 35,
   "id": "c686ab40",
   "metadata": {},
   "outputs": [
    {
     "data": {
      "text/html": [
       "<div>\n",
       "<style scoped>\n",
       "    .dataframe tbody tr th:only-of-type {\n",
       "        vertical-align: middle;\n",
       "    }\n",
       "\n",
       "    .dataframe tbody tr th {\n",
       "        vertical-align: top;\n",
       "    }\n",
       "\n",
       "    .dataframe thead th {\n",
       "        text-align: right;\n",
       "    }\n",
       "</style>\n",
       "<table border=\"1\" class=\"dataframe\">\n",
       "  <thead>\n",
       "    <tr style=\"text-align: right;\">\n",
       "      <th></th>\n",
       "      <th>Unnamed: 0</th>\n",
       "      <th>Unnamed: 0.1</th>\n",
       "      <th>s1</th>\n",
       "      <th>property</th>\n",
       "      <th>s2</th>\n",
       "      <th>s1_ID</th>\n",
       "      <th>property_ID</th>\n",
       "      <th>s2_ID</th>\n",
       "      <th>question</th>\n",
       "      <th>s2_alias</th>\n",
       "    </tr>\n",
       "  </thead>\n",
       "  <tbody>\n",
       "    <tr>\n",
       "      <th>0</th>\n",
       "      <td>0</td>\n",
       "      <td>0</td>\n",
       "      <td>Poslíček lásky</td>\n",
       "      <td>original language of film or TV show</td>\n",
       "      <td>['Czech']</td>\n",
       "      <td>Q19580810</td>\n",
       "      <td>P364</td>\n",
       "      <td>['Q9056']</td>\n",
       "      <td>What is the original language of film or TV sh...</td>\n",
       "      <td>['Lesnik', 'Weleminsky', 'czech', 'CZE', 'Cest...</td>\n",
       "    </tr>\n",
       "    <tr>\n",
       "      <th>1</th>\n",
       "      <td>1</td>\n",
       "      <td>1</td>\n",
       "      <td>A Time to Love and a Time to Die</td>\n",
       "      <td>original language of film or TV show</td>\n",
       "      <td>['English']</td>\n",
       "      <td>Q185834</td>\n",
       "      <td>P364</td>\n",
       "      <td>['Q1860']</td>\n",
       "      <td>What is the original language of film or TV sh...</td>\n",
       "      <td>['English orthographic rules', 'English langua...</td>\n",
       "    </tr>\n",
       "    <tr>\n",
       "      <th>2</th>\n",
       "      <td>2</td>\n",
       "      <td>2</td>\n",
       "      <td>Jumping Ship</td>\n",
       "      <td>original language of film or TV show</td>\n",
       "      <td>['English']</td>\n",
       "      <td>Q1763592</td>\n",
       "      <td>P364</td>\n",
       "      <td>['Q1860']</td>\n",
       "      <td>What is the original language of film or TV sh...</td>\n",
       "      <td>['English orthographic rules', 'English langua...</td>\n",
       "    </tr>\n",
       "    <tr>\n",
       "      <th>3</th>\n",
       "      <td>3</td>\n",
       "      <td>3</td>\n",
       "      <td>Broadway: The Golden Age, by the Legends Who W...</td>\n",
       "      <td>original language of film or TV show</td>\n",
       "      <td>['English']</td>\n",
       "      <td>Q4972372</td>\n",
       "      <td>P364</td>\n",
       "      <td>['Q1860']</td>\n",
       "      <td>What is the original language of film or TV sh...</td>\n",
       "      <td>['English orthographic rules', 'English langua...</td>\n",
       "    </tr>\n",
       "    <tr>\n",
       "      <th>4</th>\n",
       "      <td>4</td>\n",
       "      <td>4</td>\n",
       "      <td>Kickboxer: Vengeance</td>\n",
       "      <td>original language of film or TV show</td>\n",
       "      <td>['English']</td>\n",
       "      <td>Q17582629</td>\n",
       "      <td>P364</td>\n",
       "      <td>['Q1860']</td>\n",
       "      <td>What is the original language of film or TV sh...</td>\n",
       "      <td>['English orthographic rules', 'English langua...</td>\n",
       "    </tr>\n",
       "  </tbody>\n",
       "</table>\n",
       "</div>"
      ],
      "text/plain": [
       "   Unnamed: 0  Unnamed: 0.1  \\\n",
       "0           0             0   \n",
       "1           1             1   \n",
       "2           2             2   \n",
       "3           3             3   \n",
       "4           4             4   \n",
       "\n",
       "                                                  s1  \\\n",
       "0                                     Poslíček lásky   \n",
       "1                   A Time to Love and a Time to Die   \n",
       "2                                       Jumping Ship   \n",
       "3  Broadway: The Golden Age, by the Legends Who W...   \n",
       "4                               Kickboxer: Vengeance   \n",
       "\n",
       "                               property           s2      s1_ID property_ID  \\\n",
       "0  original language of film or TV show    ['Czech']  Q19580810        P364   \n",
       "1  original language of film or TV show  ['English']    Q185834        P364   \n",
       "2  original language of film or TV show  ['English']   Q1763592        P364   \n",
       "3  original language of film or TV show  ['English']   Q4972372        P364   \n",
       "4  original language of film or TV show  ['English']  Q17582629        P364   \n",
       "\n",
       "       s2_ID                                           question  \\\n",
       "0  ['Q9056']  What is the original language of film or TV sh...   \n",
       "1  ['Q1860']  What is the original language of film or TV sh...   \n",
       "2  ['Q1860']  What is the original language of film or TV sh...   \n",
       "3  ['Q1860']  What is the original language of film or TV sh...   \n",
       "4  ['Q1860']  What is the original language of film or TV sh...   \n",
       "\n",
       "                                            s2_alias  \n",
       "0  ['Lesnik', 'Weleminsky', 'czech', 'CZE', 'Cest...  \n",
       "1  ['English orthographic rules', 'English langua...  \n",
       "2  ['English orthographic rules', 'English langua...  \n",
       "3  ['English orthographic rules', 'English langua...  \n",
       "4  ['English orthographic rules', 'English langua...  "
      ]
     },
     "execution_count": 35,
     "metadata": {},
     "output_type": "execute_result"
    }
   ],
   "source": [
    "df_orig.head()"
   ]
  },
  {
   "cell_type": "code",
   "execution_count": 36,
   "id": "00a697d0",
   "metadata": {},
   "outputs": [
    {
     "data": {
      "text/html": [
       "<div>\n",
       "<style scoped>\n",
       "    .dataframe tbody tr th:only-of-type {\n",
       "        vertical-align: middle;\n",
       "    }\n",
       "\n",
       "    .dataframe tbody tr th {\n",
       "        vertical-align: top;\n",
       "    }\n",
       "\n",
       "    .dataframe thead th {\n",
       "        text-align: right;\n",
       "    }\n",
       "</style>\n",
       "<table border=\"1\" class=\"dataframe\">\n",
       "  <thead>\n",
       "    <tr style=\"text-align: right;\">\n",
       "      <th></th>\n",
       "      <th>question</th>\n",
       "      <th>answers</th>\n",
       "      <th>ctxs</th>\n",
       "      <th>Unnamed: 0</th>\n",
       "      <th>Unnamed: 0.1</th>\n",
       "      <th>s1</th>\n",
       "      <th>property</th>\n",
       "      <th>s2</th>\n",
       "      <th>s1_ID</th>\n",
       "      <th>property_ID</th>\n",
       "      <th>s2_ID</th>\n",
       "      <th>s2_alias</th>\n",
       "    </tr>\n",
       "  </thead>\n",
       "  <tbody>\n",
       "    <tr>\n",
       "      <th>0</th>\n",
       "      <td>What is the main subject of Someone's Knocking...</td>\n",
       "      <td>['serial killer']</td>\n",
       "      <td>[{'id': 'wiki:224490', 'title': 'Knock-knock j...</td>\n",
       "      <td>9332</td>\n",
       "      <td>9332</td>\n",
       "      <td>Someone's Knocking at the Door</td>\n",
       "      <td>main subject</td>\n",
       "      <td>['serial killer']</td>\n",
       "      <td>Q7559659</td>\n",
       "      <td>P921</td>\n",
       "      <td>['Q484188']</td>\n",
       "      <td>['serial murderers', 'Multi-murderer', 'Serial...</td>\n",
       "    </tr>\n",
       "    <tr>\n",
       "      <th>1</th>\n",
       "      <td>Which conflict was David Peel Yates involved in?</td>\n",
       "      <td>['World War II']</td>\n",
       "      <td>[{'id': 'wiki:17380406', 'title': 'Rob Ford co...</td>\n",
       "      <td>6114</td>\n",
       "      <td>6114</td>\n",
       "      <td>David Peel Yates</td>\n",
       "      <td>conflict</td>\n",
       "      <td>['World War II']</td>\n",
       "      <td>Q5235392</td>\n",
       "      <td>P607</td>\n",
       "      <td>['Q362']</td>\n",
       "      <td>['war against Germany', 'occupation years', 'U...</td>\n",
       "    </tr>\n",
       "    <tr>\n",
       "      <th>2</th>\n",
       "      <td>Who developed Akiba's Trip: Undead &amp; Undressed?</td>\n",
       "      <td>['Acquire']</td>\n",
       "      <td>[{'id': 'wiki:17528252', 'title': \"Akiba's Tri...</td>\n",
       "      <td>2586</td>\n",
       "      <td>2586</td>\n",
       "      <td>Akiba's Trip: Undead &amp; Undressed</td>\n",
       "      <td>developer</td>\n",
       "      <td>['Acquire']</td>\n",
       "      <td>Q15147454</td>\n",
       "      <td>P178</td>\n",
       "      <td>['Q481968']</td>\n",
       "      <td>['Acquire Corp.', 'Acquisition', 'ACQUIRE Corp...</td>\n",
       "    </tr>\n",
       "    <tr>\n",
       "      <th>3</th>\n",
       "      <td>Which military branch is Lewis Burwell Puller,...</td>\n",
       "      <td>['United States Marine Corps']</td>\n",
       "      <td>[{'id': 'wiki:1946530', 'title': 'Private mili...</td>\n",
       "      <td>12413</td>\n",
       "      <td>12413</td>\n",
       "      <td>Lewis Burwell Puller, Jr.</td>\n",
       "      <td>military branch</td>\n",
       "      <td>['United States Marine Corps']</td>\n",
       "      <td>Q6536363</td>\n",
       "      <td>P241</td>\n",
       "      <td>['Q11218']</td>\n",
       "      <td>['Marine Corps General', 'United States marine...</td>\n",
       "    </tr>\n",
       "    <tr>\n",
       "      <th>4</th>\n",
       "      <td>What is Robert Mardian's gender?</td>\n",
       "      <td>['male']</td>\n",
       "      <td>[{'id': 'wiki:14882303', 'title': 'Marra langu...</td>\n",
       "      <td>5514</td>\n",
       "      <td>5514</td>\n",
       "      <td>Robert Mardian</td>\n",
       "      <td>sex or gender</td>\n",
       "      <td>['male']</td>\n",
       "      <td>Q7347344</td>\n",
       "      <td>P21</td>\n",
       "      <td>['Q6581097']</td>\n",
       "      <td>['m', 'Male gender']</td>\n",
       "    </tr>\n",
       "  </tbody>\n",
       "</table>\n",
       "</div>"
      ],
      "text/plain": [
       "                                            question  \\\n",
       "0  What is the main subject of Someone's Knocking...   \n",
       "1   Which conflict was David Peel Yates involved in?   \n",
       "2    Who developed Akiba's Trip: Undead & Undressed?   \n",
       "3  Which military branch is Lewis Burwell Puller,...   \n",
       "4                   What is Robert Mardian's gender?   \n",
       "\n",
       "                          answers  \\\n",
       "0               ['serial killer']   \n",
       "1                ['World War II']   \n",
       "2                     ['Acquire']   \n",
       "3  ['United States Marine Corps']   \n",
       "4                        ['male']   \n",
       "\n",
       "                                                ctxs  Unnamed: 0  \\\n",
       "0  [{'id': 'wiki:224490', 'title': 'Knock-knock j...        9332   \n",
       "1  [{'id': 'wiki:17380406', 'title': 'Rob Ford co...        6114   \n",
       "2  [{'id': 'wiki:17528252', 'title': \"Akiba's Tri...        2586   \n",
       "3  [{'id': 'wiki:1946530', 'title': 'Private mili...       12413   \n",
       "4  [{'id': 'wiki:14882303', 'title': 'Marra langu...        5514   \n",
       "\n",
       "   Unnamed: 0.1                                s1         property  \\\n",
       "0          9332    Someone's Knocking at the Door     main subject   \n",
       "1          6114                  David Peel Yates         conflict   \n",
       "2          2586  Akiba's Trip: Undead & Undressed        developer   \n",
       "3         12413         Lewis Burwell Puller, Jr.  military branch   \n",
       "4          5514                    Robert Mardian    sex or gender   \n",
       "\n",
       "                               s2      s1_ID property_ID         s2_ID  \\\n",
       "0               ['serial killer']   Q7559659        P921   ['Q484188']   \n",
       "1                ['World War II']   Q5235392        P607      ['Q362']   \n",
       "2                     ['Acquire']  Q15147454        P178   ['Q481968']   \n",
       "3  ['United States Marine Corps']   Q6536363        P241    ['Q11218']   \n",
       "4                        ['male']   Q7347344         P21  ['Q6581097']   \n",
       "\n",
       "                                            s2_alias  \n",
       "0  ['serial murderers', 'Multi-murderer', 'Serial...  \n",
       "1  ['war against Germany', 'occupation years', 'U...  \n",
       "2  ['Acquire Corp.', 'Acquisition', 'ACQUIRE Corp...  \n",
       "3  ['Marine Corps General', 'United States marine...  \n",
       "4                               ['m', 'Male gender']  "
      ]
     },
     "execution_count": 36,
     "metadata": {},
     "output_type": "execute_result"
    }
   ],
   "source": [
    "df_result = pd.merge(df, df_orig, on='question', how='left')\n",
    "df_result.head()"
   ]
  },
  {
   "cell_type": "code",
   "execution_count": 37,
   "id": "c0f9220f",
   "metadata": {},
   "outputs": [
    {
     "data": {
      "text/html": [
       "<div>\n",
       "<style scoped>\n",
       "    .dataframe tbody tr th:only-of-type {\n",
       "        vertical-align: middle;\n",
       "    }\n",
       "\n",
       "    .dataframe tbody tr th {\n",
       "        vertical-align: top;\n",
       "    }\n",
       "\n",
       "    .dataframe thead th {\n",
       "        text-align: right;\n",
       "    }\n",
       "</style>\n",
       "<table border=\"1\" class=\"dataframe\">\n",
       "  <thead>\n",
       "    <tr style=\"text-align: right;\">\n",
       "      <th></th>\n",
       "      <th>question</th>\n",
       "      <th>answers</th>\n",
       "      <th>ctxs</th>\n",
       "      <th>s1</th>\n",
       "      <th>s1_ID</th>\n",
       "      <th>property</th>\n",
       "      <th>property_ID</th>\n",
       "      <th>s2</th>\n",
       "      <th>s2_ID</th>\n",
       "    </tr>\n",
       "  </thead>\n",
       "  <tbody>\n",
       "    <tr>\n",
       "      <th>0</th>\n",
       "      <td>What is the main subject of Someone's Knocking...</td>\n",
       "      <td>['serial killer']</td>\n",
       "      <td>[{'id': 'wiki:224490', 'title': 'Knock-knock j...</td>\n",
       "      <td>Someone's Knocking at the Door</td>\n",
       "      <td>Q7559659</td>\n",
       "      <td>main subject</td>\n",
       "      <td>P921</td>\n",
       "      <td>['serial killer']</td>\n",
       "      <td>['Q484188']</td>\n",
       "    </tr>\n",
       "    <tr>\n",
       "      <th>1</th>\n",
       "      <td>Which conflict was David Peel Yates involved in?</td>\n",
       "      <td>['World War II']</td>\n",
       "      <td>[{'id': 'wiki:17380406', 'title': 'Rob Ford co...</td>\n",
       "      <td>David Peel Yates</td>\n",
       "      <td>Q5235392</td>\n",
       "      <td>conflict</td>\n",
       "      <td>P607</td>\n",
       "      <td>['World War II']</td>\n",
       "      <td>['Q362']</td>\n",
       "    </tr>\n",
       "    <tr>\n",
       "      <th>2</th>\n",
       "      <td>Who developed Akiba's Trip: Undead &amp; Undressed?</td>\n",
       "      <td>['Acquire']</td>\n",
       "      <td>[{'id': 'wiki:17528252', 'title': \"Akiba's Tri...</td>\n",
       "      <td>Akiba's Trip: Undead &amp; Undressed</td>\n",
       "      <td>Q15147454</td>\n",
       "      <td>developer</td>\n",
       "      <td>P178</td>\n",
       "      <td>['Acquire']</td>\n",
       "      <td>['Q481968']</td>\n",
       "    </tr>\n",
       "    <tr>\n",
       "      <th>3</th>\n",
       "      <td>Which military branch is Lewis Burwell Puller,...</td>\n",
       "      <td>['United States Marine Corps']</td>\n",
       "      <td>[{'id': 'wiki:1946530', 'title': 'Private mili...</td>\n",
       "      <td>Lewis Burwell Puller, Jr.</td>\n",
       "      <td>Q6536363</td>\n",
       "      <td>military branch</td>\n",
       "      <td>P241</td>\n",
       "      <td>['United States Marine Corps']</td>\n",
       "      <td>['Q11218']</td>\n",
       "    </tr>\n",
       "    <tr>\n",
       "      <th>4</th>\n",
       "      <td>What is Robert Mardian's gender?</td>\n",
       "      <td>['male']</td>\n",
       "      <td>[{'id': 'wiki:14882303', 'title': 'Marra langu...</td>\n",
       "      <td>Robert Mardian</td>\n",
       "      <td>Q7347344</td>\n",
       "      <td>sex or gender</td>\n",
       "      <td>P21</td>\n",
       "      <td>['male']</td>\n",
       "      <td>['Q6581097']</td>\n",
       "    </tr>\n",
       "  </tbody>\n",
       "</table>\n",
       "</div>"
      ],
      "text/plain": [
       "                                            question  \\\n",
       "0  What is the main subject of Someone's Knocking...   \n",
       "1   Which conflict was David Peel Yates involved in?   \n",
       "2    Who developed Akiba's Trip: Undead & Undressed?   \n",
       "3  Which military branch is Lewis Burwell Puller,...   \n",
       "4                   What is Robert Mardian's gender?   \n",
       "\n",
       "                          answers  \\\n",
       "0               ['serial killer']   \n",
       "1                ['World War II']   \n",
       "2                     ['Acquire']   \n",
       "3  ['United States Marine Corps']   \n",
       "4                        ['male']   \n",
       "\n",
       "                                                ctxs  \\\n",
       "0  [{'id': 'wiki:224490', 'title': 'Knock-knock j...   \n",
       "1  [{'id': 'wiki:17380406', 'title': 'Rob Ford co...   \n",
       "2  [{'id': 'wiki:17528252', 'title': \"Akiba's Tri...   \n",
       "3  [{'id': 'wiki:1946530', 'title': 'Private mili...   \n",
       "4  [{'id': 'wiki:14882303', 'title': 'Marra langu...   \n",
       "\n",
       "                                 s1      s1_ID         property property_ID  \\\n",
       "0    Someone's Knocking at the Door   Q7559659     main subject        P921   \n",
       "1                  David Peel Yates   Q5235392         conflict        P607   \n",
       "2  Akiba's Trip: Undead & Undressed  Q15147454        developer        P178   \n",
       "3         Lewis Burwell Puller, Jr.   Q6536363  military branch        P241   \n",
       "4                    Robert Mardian   Q7347344    sex or gender         P21   \n",
       "\n",
       "                               s2         s2_ID  \n",
       "0               ['serial killer']   ['Q484188']  \n",
       "1                ['World War II']      ['Q362']  \n",
       "2                     ['Acquire']   ['Q481968']  \n",
       "3  ['United States Marine Corps']    ['Q11218']  \n",
       "4                        ['male']  ['Q6581097']  "
      ]
     },
     "execution_count": 37,
     "metadata": {},
     "output_type": "execute_result"
    }
   ],
   "source": [
    "df_result = df_result[[\"question\", \"answers\", \"ctxs\", \"s1\", \"s1_ID\", \"property\", \"property_ID\", \"s2\", \"s2_ID\"]]\n",
    "df_result.head()"
   ]
  },
  {
   "cell_type": "code",
   "execution_count": 39,
   "id": "d0413705",
   "metadata": {},
   "outputs": [
    {
     "data": {
      "text/plain": [
       "999"
      ]
     },
     "execution_count": 39,
     "metadata": {},
     "output_type": "execute_result"
    }
   ],
   "source": [
    "df_result = df_result.dropna()\n",
    "df_result = df_result.iloc[1:]\n",
    "len(df_result)"
   ]
  },
  {
   "cell_type": "code",
   "execution_count": 40,
   "id": "9f12e80e",
   "metadata": {},
   "outputs": [
    {
     "name": "stderr",
     "output_type": "stream",
     "text": [
      "2it [00:00,  8.14it/s]"
     ]
    },
    {
     "name": "stdout",
     "output_type": "stream",
     "text": [
      "idx:  0\n"
     ]
    },
    {
     "name": "stderr",
     "output_type": "stream",
     "text": [
      "102it [00:15,  8.25it/s]"
     ]
    },
    {
     "name": "stdout",
     "output_type": "stream",
     "text": [
      "idx:  100\n"
     ]
    },
    {
     "name": "stderr",
     "output_type": "stream",
     "text": [
      "201it [00:39,  5.04it/s]"
     ]
    },
    {
     "name": "stdout",
     "output_type": "stream",
     "text": [
      "idx:  200\n"
     ]
    },
    {
     "name": "stderr",
     "output_type": "stream",
     "text": [
      "302it [00:58,  8.21it/s]"
     ]
    },
    {
     "name": "stdout",
     "output_type": "stream",
     "text": [
      "idx:  300\n"
     ]
    },
    {
     "name": "stderr",
     "output_type": "stream",
     "text": [
      "402it [01:27, 10.85it/s]"
     ]
    },
    {
     "name": "stdout",
     "output_type": "stream",
     "text": [
      "idx:  400\n"
     ]
    },
    {
     "name": "stderr",
     "output_type": "stream",
     "text": [
      "502it [01:42,  9.39it/s]"
     ]
    },
    {
     "name": "stdout",
     "output_type": "stream",
     "text": [
      "idx:  500\n"
     ]
    },
    {
     "name": "stderr",
     "output_type": "stream",
     "text": [
      "600it [01:57, 11.05it/s]"
     ]
    },
    {
     "name": "stdout",
     "output_type": "stream",
     "text": [
      "idx:  600\n"
     ]
    },
    {
     "name": "stderr",
     "output_type": "stream",
     "text": [
      "701it [02:18,  7.67it/s]"
     ]
    },
    {
     "name": "stdout",
     "output_type": "stream",
     "text": [
      "idx:  700\n"
     ]
    },
    {
     "name": "stderr",
     "output_type": "stream",
     "text": [
      "801it [02:42,  1.65it/s]"
     ]
    },
    {
     "name": "stdout",
     "output_type": "stream",
     "text": [
      "idx:  800\n"
     ]
    },
    {
     "name": "stderr",
     "output_type": "stream",
     "text": [
      "903it [03:06,  6.82it/s]"
     ]
    },
    {
     "name": "stdout",
     "output_type": "stream",
     "text": [
      "idx:  900\n"
     ]
    },
    {
     "name": "stderr",
     "output_type": "stream",
     "text": [
      "999it [03:21,  4.97it/s]\n"
     ]
    }
   ],
   "source": [
    "import ast \n",
    "from tqdm import tqdm \n",
    "\n",
    "s2_alias = []\n",
    "qid_alias = {}\n",
    "\n",
    "for idx, row in tqdm(enumerate(df_result['s2_ID'])):\n",
    "    row_alias = []\n",
    "    for entity in ast.literal_eval(row):\n",
    "        if entity in qid_alias:\n",
    "            row_alias.append(qid_alias[entity])\n",
    "        else:\n",
    "            a = get_alias(entity)\n",
    "            row_alias.append(a)\n",
    "            qid_alias[entity] = a\n",
    "            \n",
    "    s2_alias.append(row_alias)    \n",
    "    if idx%100 == 0:\n",
    "        print(\"idx: \", idx)"
   ]
  },
  {
   "cell_type": "code",
   "execution_count": 41,
   "id": "23703ac8",
   "metadata": {},
   "outputs": [
    {
     "data": {
      "text/html": [
       "<div>\n",
       "<style scoped>\n",
       "    .dataframe tbody tr th:only-of-type {\n",
       "        vertical-align: middle;\n",
       "    }\n",
       "\n",
       "    .dataframe tbody tr th {\n",
       "        vertical-align: top;\n",
       "    }\n",
       "\n",
       "    .dataframe thead th {\n",
       "        text-align: right;\n",
       "    }\n",
       "</style>\n",
       "<table border=\"1\" class=\"dataframe\">\n",
       "  <thead>\n",
       "    <tr style=\"text-align: right;\">\n",
       "      <th></th>\n",
       "      <th>question</th>\n",
       "      <th>answers</th>\n",
       "      <th>ctxs</th>\n",
       "      <th>s1</th>\n",
       "      <th>s1_ID</th>\n",
       "      <th>property</th>\n",
       "      <th>property_ID</th>\n",
       "      <th>s2</th>\n",
       "      <th>s2_ID</th>\n",
       "      <th>s2_alias</th>\n",
       "    </tr>\n",
       "  </thead>\n",
       "  <tbody>\n",
       "    <tr>\n",
       "      <th>1</th>\n",
       "      <td>Which conflict was David Peel Yates involved in?</td>\n",
       "      <td>['World War II']</td>\n",
       "      <td>[{'id': 'wiki:17380406', 'title': 'Rob Ford co...</td>\n",
       "      <td>David Peel Yates</td>\n",
       "      <td>Q5235392</td>\n",
       "      <td>conflict</td>\n",
       "      <td>P607</td>\n",
       "      <td>['World War II']</td>\n",
       "      <td>['Q362']</td>\n",
       "      <td>[[WW2, WWII, WW 2, WW II, World War Two, 2nd W...</td>\n",
       "    </tr>\n",
       "    <tr>\n",
       "      <th>2</th>\n",
       "      <td>Who developed Akiba's Trip: Undead &amp; Undressed?</td>\n",
       "      <td>['Acquire']</td>\n",
       "      <td>[{'id': 'wiki:17528252', 'title': \"Akiba's Tri...</td>\n",
       "      <td>Akiba's Trip: Undead &amp; Undressed</td>\n",
       "      <td>Q15147454</td>\n",
       "      <td>developer</td>\n",
       "      <td>P178</td>\n",
       "      <td>['Acquire']</td>\n",
       "      <td>['Q481968']</td>\n",
       "      <td>[[ACQUIRE Corp., Acquire (game developer)]]</td>\n",
       "    </tr>\n",
       "    <tr>\n",
       "      <th>3</th>\n",
       "      <td>Which military branch is Lewis Burwell Puller,...</td>\n",
       "      <td>['United States Marine Corps']</td>\n",
       "      <td>[{'id': 'wiki:1946530', 'title': 'Private mili...</td>\n",
       "      <td>Lewis Burwell Puller, Jr.</td>\n",
       "      <td>Q6536363</td>\n",
       "      <td>military branch</td>\n",
       "      <td>P241</td>\n",
       "      <td>['United States Marine Corps']</td>\n",
       "      <td>['Q11218']</td>\n",
       "      <td>[[USMC, Marine Corps, US Marine Corps, United ...</td>\n",
       "    </tr>\n",
       "    <tr>\n",
       "      <th>4</th>\n",
       "      <td>What is Robert Mardian's gender?</td>\n",
       "      <td>['male']</td>\n",
       "      <td>[{'id': 'wiki:14882303', 'title': 'Marra langu...</td>\n",
       "      <td>Robert Mardian</td>\n",
       "      <td>Q7347344</td>\n",
       "      <td>sex or gender</td>\n",
       "      <td>P21</td>\n",
       "      <td>['male']</td>\n",
       "      <td>['Q6581097']</td>\n",
       "      <td>[[man, male person, male human, male gender, g...</td>\n",
       "    </tr>\n",
       "    <tr>\n",
       "      <th>5</th>\n",
       "      <td>Where does H. Rap Brown reside?</td>\n",
       "      <td>['United States Penitentiary, Tucson']</td>\n",
       "      <td>[{'id': 'wiki:5689261', 'title': 'Byron Brown'...</td>\n",
       "      <td>H. Rap Brown</td>\n",
       "      <td>Q5628517</td>\n",
       "      <td>residence</td>\n",
       "      <td>P551</td>\n",
       "      <td>['United States Penitentiary, Tucson']</td>\n",
       "      <td>['Q7890885']</td>\n",
       "      <td>[[USP Tucson]]</td>\n",
       "    </tr>\n",
       "  </tbody>\n",
       "</table>\n",
       "</div>"
      ],
      "text/plain": [
       "                                            question  \\\n",
       "1   Which conflict was David Peel Yates involved in?   \n",
       "2    Who developed Akiba's Trip: Undead & Undressed?   \n",
       "3  Which military branch is Lewis Burwell Puller,...   \n",
       "4                   What is Robert Mardian's gender?   \n",
       "5                    Where does H. Rap Brown reside?   \n",
       "\n",
       "                                  answers  \\\n",
       "1                        ['World War II']   \n",
       "2                             ['Acquire']   \n",
       "3          ['United States Marine Corps']   \n",
       "4                                ['male']   \n",
       "5  ['United States Penitentiary, Tucson']   \n",
       "\n",
       "                                                ctxs  \\\n",
       "1  [{'id': 'wiki:17380406', 'title': 'Rob Ford co...   \n",
       "2  [{'id': 'wiki:17528252', 'title': \"Akiba's Tri...   \n",
       "3  [{'id': 'wiki:1946530', 'title': 'Private mili...   \n",
       "4  [{'id': 'wiki:14882303', 'title': 'Marra langu...   \n",
       "5  [{'id': 'wiki:5689261', 'title': 'Byron Brown'...   \n",
       "\n",
       "                                 s1      s1_ID         property property_ID  \\\n",
       "1                  David Peel Yates   Q5235392         conflict        P607   \n",
       "2  Akiba's Trip: Undead & Undressed  Q15147454        developer        P178   \n",
       "3         Lewis Burwell Puller, Jr.   Q6536363  military branch        P241   \n",
       "4                    Robert Mardian   Q7347344    sex or gender         P21   \n",
       "5                      H. Rap Brown   Q5628517        residence        P551   \n",
       "\n",
       "                                       s2         s2_ID  \\\n",
       "1                        ['World War II']      ['Q362']   \n",
       "2                             ['Acquire']   ['Q481968']   \n",
       "3          ['United States Marine Corps']    ['Q11218']   \n",
       "4                                ['male']  ['Q6581097']   \n",
       "5  ['United States Penitentiary, Tucson']  ['Q7890885']   \n",
       "\n",
       "                                            s2_alias  \n",
       "1  [[WW2, WWII, WW 2, WW II, World War Two, 2nd W...  \n",
       "2        [[ACQUIRE Corp., Acquire (game developer)]]  \n",
       "3  [[USMC, Marine Corps, US Marine Corps, United ...  \n",
       "4  [[man, male person, male human, male gender, g...  \n",
       "5                                     [[USP Tucson]]  "
      ]
     },
     "execution_count": 41,
     "metadata": {},
     "output_type": "execute_result"
    }
   ],
   "source": [
    "df_result[\"s2_alias\"] = s2_alias\n",
    "df_result.head()"
   ]
  },
  {
   "cell_type": "code",
   "execution_count": 42,
   "id": "08caf7f5",
   "metadata": {},
   "outputs": [],
   "source": [
    "df_result.to_csv(\"/home/selvansr/capstone/wikipedia/baseline_data/head2.0_1ksampled_alias.csv\")"
   ]
  },
  {
   "cell_type": "code",
   "execution_count": 2,
   "id": "07525596",
   "metadata": {},
   "outputs": [],
   "source": [
    "# generate aliases for entire dataset"
   ]
  },
  {
   "cell_type": "code",
   "execution_count": 27,
   "id": "41536bf1",
   "metadata": {},
   "outputs": [
    {
     "data": {
      "text/html": [
       "<div>\n",
       "<style scoped>\n",
       "    .dataframe tbody tr th:only-of-type {\n",
       "        vertical-align: middle;\n",
       "    }\n",
       "\n",
       "    .dataframe tbody tr th {\n",
       "        vertical-align: top;\n",
       "    }\n",
       "\n",
       "    .dataframe thead th {\n",
       "        text-align: right;\n",
       "    }\n",
       "</style>\n",
       "<table border=\"1\" class=\"dataframe\">\n",
       "  <thead>\n",
       "    <tr style=\"text-align: right;\">\n",
       "      <th></th>\n",
       "      <th>Unnamed: 0</th>\n",
       "      <th>Unnamed: 0.1</th>\n",
       "      <th>s1</th>\n",
       "      <th>property</th>\n",
       "      <th>s2</th>\n",
       "      <th>s1_ID</th>\n",
       "      <th>property_ID</th>\n",
       "      <th>s2_ID</th>\n",
       "      <th>question</th>\n",
       "      <th>s2_alias</th>\n",
       "    </tr>\n",
       "  </thead>\n",
       "  <tbody>\n",
       "    <tr>\n",
       "      <th>0</th>\n",
       "      <td>0</td>\n",
       "      <td>0</td>\n",
       "      <td>Poslíček lásky</td>\n",
       "      <td>original language of film or TV show</td>\n",
       "      <td>['Czech']</td>\n",
       "      <td>Q19580810</td>\n",
       "      <td>P364</td>\n",
       "      <td>['Q9056']</td>\n",
       "      <td>What is the original language of film or TV sh...</td>\n",
       "      <td>['Lesnik', 'Weleminsky', 'czech', 'CZE', 'Cest...</td>\n",
       "    </tr>\n",
       "    <tr>\n",
       "      <th>1</th>\n",
       "      <td>1</td>\n",
       "      <td>1</td>\n",
       "      <td>A Time to Love and a Time to Die</td>\n",
       "      <td>original language of film or TV show</td>\n",
       "      <td>['English']</td>\n",
       "      <td>Q185834</td>\n",
       "      <td>P364</td>\n",
       "      <td>['Q1860']</td>\n",
       "      <td>What is the original language of film or TV sh...</td>\n",
       "      <td>['English orthographic rules', 'English langua...</td>\n",
       "    </tr>\n",
       "    <tr>\n",
       "      <th>2</th>\n",
       "      <td>2</td>\n",
       "      <td>2</td>\n",
       "      <td>Jumping Ship</td>\n",
       "      <td>original language of film or TV show</td>\n",
       "      <td>['English']</td>\n",
       "      <td>Q1763592</td>\n",
       "      <td>P364</td>\n",
       "      <td>['Q1860']</td>\n",
       "      <td>What is the original language of film or TV sh...</td>\n",
       "      <td>['English orthographic rules', 'English langua...</td>\n",
       "    </tr>\n",
       "    <tr>\n",
       "      <th>3</th>\n",
       "      <td>3</td>\n",
       "      <td>3</td>\n",
       "      <td>Broadway: The Golden Age, by the Legends Who W...</td>\n",
       "      <td>original language of film or TV show</td>\n",
       "      <td>['English']</td>\n",
       "      <td>Q4972372</td>\n",
       "      <td>P364</td>\n",
       "      <td>['Q1860']</td>\n",
       "      <td>What is the original language of film or TV sh...</td>\n",
       "      <td>['English orthographic rules', 'English langua...</td>\n",
       "    </tr>\n",
       "    <tr>\n",
       "      <th>4</th>\n",
       "      <td>4</td>\n",
       "      <td>4</td>\n",
       "      <td>Kickboxer: Vengeance</td>\n",
       "      <td>original language of film or TV show</td>\n",
       "      <td>['English']</td>\n",
       "      <td>Q17582629</td>\n",
       "      <td>P364</td>\n",
       "      <td>['Q1860']</td>\n",
       "      <td>What is the original language of film or TV sh...</td>\n",
       "      <td>['English orthographic rules', 'English langua...</td>\n",
       "    </tr>\n",
       "  </tbody>\n",
       "</table>\n",
       "</div>"
      ],
      "text/plain": [
       "   Unnamed: 0  Unnamed: 0.1  \\\n",
       "0           0             0   \n",
       "1           1             1   \n",
       "2           2             2   \n",
       "3           3             3   \n",
       "4           4             4   \n",
       "\n",
       "                                                  s1  \\\n",
       "0                                     Poslíček lásky   \n",
       "1                   A Time to Love and a Time to Die   \n",
       "2                                       Jumping Ship   \n",
       "3  Broadway: The Golden Age, by the Legends Who W...   \n",
       "4                               Kickboxer: Vengeance   \n",
       "\n",
       "                               property           s2      s1_ID property_ID  \\\n",
       "0  original language of film or TV show    ['Czech']  Q19580810        P364   \n",
       "1  original language of film or TV show  ['English']    Q185834        P364   \n",
       "2  original language of film or TV show  ['English']   Q1763592        P364   \n",
       "3  original language of film or TV show  ['English']   Q4972372        P364   \n",
       "4  original language of film or TV show  ['English']  Q17582629        P364   \n",
       "\n",
       "       s2_ID                                           question  \\\n",
       "0  ['Q9056']  What is the original language of film or TV sh...   \n",
       "1  ['Q1860']  What is the original language of film or TV sh...   \n",
       "2  ['Q1860']  What is the original language of film or TV sh...   \n",
       "3  ['Q1860']  What is the original language of film or TV sh...   \n",
       "4  ['Q1860']  What is the original language of film or TV sh...   \n",
       "\n",
       "                                            s2_alias  \n",
       "0  ['Lesnik', 'Weleminsky', 'czech', 'CZE', 'Cest...  \n",
       "1  ['English orthographic rules', 'English langua...  \n",
       "2  ['English orthographic rules', 'English langua...  \n",
       "3  ['English orthographic rules', 'English langua...  \n",
       "4  ['English orthographic rules', 'English langua...  "
      ]
     },
     "execution_count": 27,
     "metadata": {},
     "output_type": "execute_result"
    }
   ],
   "source": [
    "import pandas as pd\n",
    "\n",
    "df_orig = pd.read_csv(\"/home/youngmik/wikidata/data/head_triplets_30k.tsv\", sep='\\t')\n",
    "df_orig.head()"
   ]
  },
  {
   "cell_type": "code",
   "execution_count": 29,
   "id": "ce148478",
   "metadata": {},
   "outputs": [
    {
     "data": {
      "text/html": [
       "<div>\n",
       "<style scoped>\n",
       "    .dataframe tbody tr th:only-of-type {\n",
       "        vertical-align: middle;\n",
       "    }\n",
       "\n",
       "    .dataframe tbody tr th {\n",
       "        vertical-align: top;\n",
       "    }\n",
       "\n",
       "    .dataframe thead th {\n",
       "        text-align: right;\n",
       "    }\n",
       "</style>\n",
       "<table border=\"1\" class=\"dataframe\">\n",
       "  <thead>\n",
       "    <tr style=\"text-align: right;\">\n",
       "      <th></th>\n",
       "      <th>Unnamed: 0</th>\n",
       "      <th>Unnamed: 0.1</th>\n",
       "      <th>s1</th>\n",
       "      <th>property</th>\n",
       "      <th>s2</th>\n",
       "      <th>s1_ID</th>\n",
       "      <th>property_ID</th>\n",
       "      <th>s2_ID</th>\n",
       "      <th>question</th>\n",
       "      <th>s2_alias</th>\n",
       "    </tr>\n",
       "  </thead>\n",
       "  <tbody>\n",
       "    <tr>\n",
       "      <th>0</th>\n",
       "      <td>0</td>\n",
       "      <td>0</td>\n",
       "      <td>Poslíček lásky</td>\n",
       "      <td>original language of film or TV show</td>\n",
       "      <td>['Czech']</td>\n",
       "      <td>Q19580810</td>\n",
       "      <td>P364</td>\n",
       "      <td>['Q9056']</td>\n",
       "      <td>What is the original language of film or TV sh...</td>\n",
       "      <td>[]</td>\n",
       "    </tr>\n",
       "    <tr>\n",
       "      <th>1</th>\n",
       "      <td>1</td>\n",
       "      <td>1</td>\n",
       "      <td>A Time to Love and a Time to Die</td>\n",
       "      <td>original language of film or TV show</td>\n",
       "      <td>['English']</td>\n",
       "      <td>Q185834</td>\n",
       "      <td>P364</td>\n",
       "      <td>['Q1860']</td>\n",
       "      <td>What is the original language of film or TV sh...</td>\n",
       "      <td>[]</td>\n",
       "    </tr>\n",
       "    <tr>\n",
       "      <th>2</th>\n",
       "      <td>2</td>\n",
       "      <td>2</td>\n",
       "      <td>Jumping Ship</td>\n",
       "      <td>original language of film or TV show</td>\n",
       "      <td>['English']</td>\n",
       "      <td>Q1763592</td>\n",
       "      <td>P364</td>\n",
       "      <td>['Q1860']</td>\n",
       "      <td>What is the original language of film or TV sh...</td>\n",
       "      <td>[]</td>\n",
       "    </tr>\n",
       "    <tr>\n",
       "      <th>3</th>\n",
       "      <td>3</td>\n",
       "      <td>3</td>\n",
       "      <td>Broadway: The Golden Age, by the Legends Who W...</td>\n",
       "      <td>original language of film or TV show</td>\n",
       "      <td>['English']</td>\n",
       "      <td>Q4972372</td>\n",
       "      <td>P364</td>\n",
       "      <td>['Q1860']</td>\n",
       "      <td>What is the original language of film or TV sh...</td>\n",
       "      <td>[]</td>\n",
       "    </tr>\n",
       "    <tr>\n",
       "      <th>4</th>\n",
       "      <td>4</td>\n",
       "      <td>4</td>\n",
       "      <td>Kickboxer: Vengeance</td>\n",
       "      <td>original language of film or TV show</td>\n",
       "      <td>['English']</td>\n",
       "      <td>Q17582629</td>\n",
       "      <td>P364</td>\n",
       "      <td>['Q1860']</td>\n",
       "      <td>What is the original language of film or TV sh...</td>\n",
       "      <td>[]</td>\n",
       "    </tr>\n",
       "  </tbody>\n",
       "</table>\n",
       "</div>"
      ],
      "text/plain": [
       "   Unnamed: 0  Unnamed: 0.1  \\\n",
       "0           0             0   \n",
       "1           1             1   \n",
       "2           2             2   \n",
       "3           3             3   \n",
       "4           4             4   \n",
       "\n",
       "                                                  s1  \\\n",
       "0                                     Poslíček lásky   \n",
       "1                   A Time to Love and a Time to Die   \n",
       "2                                       Jumping Ship   \n",
       "3  Broadway: The Golden Age, by the Legends Who W...   \n",
       "4                               Kickboxer: Vengeance   \n",
       "\n",
       "                               property           s2      s1_ID property_ID  \\\n",
       "0  original language of film or TV show    ['Czech']  Q19580810        P364   \n",
       "1  original language of film or TV show  ['English']    Q185834        P364   \n",
       "2  original language of film or TV show  ['English']   Q1763592        P364   \n",
       "3  original language of film or TV show  ['English']   Q4972372        P364   \n",
       "4  original language of film or TV show  ['English']  Q17582629        P364   \n",
       "\n",
       "       s2_ID                                           question s2_alias  \n",
       "0  ['Q9056']  What is the original language of film or TV sh...       []  \n",
       "1  ['Q1860']  What is the original language of film or TV sh...       []  \n",
       "2  ['Q1860']  What is the original language of film or TV sh...       []  \n",
       "3  ['Q1860']  What is the original language of film or TV sh...       []  \n",
       "4  ['Q1860']  What is the original language of film or TV sh...       []  "
      ]
     },
     "execution_count": 29,
     "metadata": {},
     "output_type": "execute_result"
    }
   ],
   "source": [
    "import numpy as np\n",
    "\n",
    "df_orig[\"s2_alias\"] = [[] for _ in range(len(df_orig))]\n",
    "df_orig.head()"
   ]
  },
  {
   "cell_type": "code",
   "execution_count": 31,
   "id": "2ab9a48c",
   "metadata": {},
   "outputs": [
    {
     "name": "stderr",
     "output_type": "stream",
     "text": [
      "2it [00:00,  8.52it/s]"
     ]
    },
    {
     "name": "stdout",
     "output_type": "stream",
     "text": [
      "idx:  0\n"
     ]
    },
    {
     "name": "stderr",
     "output_type": "stream",
     "text": [
      "108it [00:02, 108.25it/s]"
     ]
    },
    {
     "name": "stdout",
     "output_type": "stream",
     "text": [
      "idx:  100\n"
     ]
    },
    {
     "name": "stderr",
     "output_type": "stream",
     "text": [
      "217it [00:03, 120.41it/s]"
     ]
    },
    {
     "name": "stdout",
     "output_type": "stream",
     "text": [
      "idx:  200\n"
     ]
    },
    {
     "name": "stderr",
     "output_type": "stream",
     "text": [
      "311it [00:03, 196.36it/s]"
     ]
    },
    {
     "name": "stdout",
     "output_type": "stream",
     "text": [
      "idx:  300\n"
     ]
    },
    {
     "name": "stderr",
     "output_type": "stream",
     "text": [
      "413it [00:04, 262.30it/s]"
     ]
    },
    {
     "name": "stdout",
     "output_type": "stream",
     "text": [
      "idx:  400\n"
     ]
    },
    {
     "name": "stderr",
     "output_type": "stream",
     "text": [
      "501it [00:04, 294.34it/s]"
     ]
    },
    {
     "name": "stdout",
     "output_type": "stream",
     "text": [
      "idx:  500\n"
     ]
    },
    {
     "name": "stderr",
     "output_type": "stream",
     "text": [
      "626it [00:09, 51.57it/s] "
     ]
    },
    {
     "name": "stdout",
     "output_type": "stream",
     "text": [
      "idx:  600\n"
     ]
    },
    {
     "name": "stderr",
     "output_type": "stream",
     "text": [
      "709it [00:10, 54.97it/s]"
     ]
    },
    {
     "name": "stdout",
     "output_type": "stream",
     "text": [
      "idx:  700\n"
     ]
    },
    {
     "name": "stderr",
     "output_type": "stream",
     "text": [
      "812it [00:12, 98.31it/s] "
     ]
    },
    {
     "name": "stdout",
     "output_type": "stream",
     "text": [
      "idx:  800\n"
     ]
    },
    {
     "name": "stderr",
     "output_type": "stream",
     "text": [
      "958it [00:12, 249.92it/s]"
     ]
    },
    {
     "name": "stdout",
     "output_type": "stream",
     "text": [
      "idx:  900\n"
     ]
    },
    {
     "name": "stderr",
     "output_type": "stream",
     "text": [
      "\r",
      "983it [00:13, 142.31it/s]"
     ]
    },
    {
     "name": "stdout",
     "output_type": "stream",
     "text": [
      "idx:  1000\n"
     ]
    },
    {
     "name": "stderr",
     "output_type": "stream",
     "text": [
      "1102it [00:26,  6.87it/s]"
     ]
    },
    {
     "name": "stdout",
     "output_type": "stream",
     "text": [
      "idx:  1100\n"
     ]
    },
    {
     "name": "stderr",
     "output_type": "stream",
     "text": [
      "1201it [02:03,  1.28s/it]"
     ]
    },
    {
     "name": "stdout",
     "output_type": "stream",
     "text": [
      "idx:  1200\n"
     ]
    },
    {
     "name": "stderr",
     "output_type": "stream",
     "text": [
      "1302it [02:16, 24.82it/s]"
     ]
    },
    {
     "name": "stdout",
     "output_type": "stream",
     "text": [
      "idx:  1300\n"
     ]
    },
    {
     "name": "stderr",
     "output_type": "stream",
     "text": [
      "1403it [02:21, 25.24it/s]"
     ]
    },
    {
     "name": "stdout",
     "output_type": "stream",
     "text": [
      "idx:  1400\n"
     ]
    },
    {
     "name": "stderr",
     "output_type": "stream",
     "text": [
      "1504it [02:25, 28.46it/s]"
     ]
    },
    {
     "name": "stdout",
     "output_type": "stream",
     "text": [
      "idx:  1500\n"
     ]
    },
    {
     "name": "stderr",
     "output_type": "stream",
     "text": [
      "1603it [02:28, 26.82it/s]"
     ]
    },
    {
     "name": "stdout",
     "output_type": "stream",
     "text": [
      "idx:  1600\n"
     ]
    },
    {
     "name": "stderr",
     "output_type": "stream",
     "text": [
      "1700it [02:33, 20.48it/s]"
     ]
    },
    {
     "name": "stdout",
     "output_type": "stream",
     "text": [
      "idx:  1700\n"
     ]
    },
    {
     "name": "stderr",
     "output_type": "stream",
     "text": [
      "1802it [02:42,  8.96it/s]"
     ]
    },
    {
     "name": "stdout",
     "output_type": "stream",
     "text": [
      "idx:  1800\n"
     ]
    },
    {
     "name": "stderr",
     "output_type": "stream",
     "text": [
      "1902it [02:56,  8.80it/s]"
     ]
    },
    {
     "name": "stdout",
     "output_type": "stream",
     "text": [
      "idx:  1900\n"
     ]
    },
    {
     "name": "stderr",
     "output_type": "stream",
     "text": [
      "2002it [03:08,  9.09it/s]"
     ]
    },
    {
     "name": "stdout",
     "output_type": "stream",
     "text": [
      "idx:  2000\n"
     ]
    },
    {
     "name": "stderr",
     "output_type": "stream",
     "text": [
      "2102it [03:20,  9.37it/s]"
     ]
    },
    {
     "name": "stdout",
     "output_type": "stream",
     "text": [
      "idx:  2100\n"
     ]
    },
    {
     "name": "stderr",
     "output_type": "stream",
     "text": [
      "2202it [03:30, 11.66it/s]"
     ]
    },
    {
     "name": "stdout",
     "output_type": "stream",
     "text": [
      "idx:  2200\n"
     ]
    },
    {
     "name": "stderr",
     "output_type": "stream",
     "text": [
      "2302it [03:40, 10.34it/s]"
     ]
    },
    {
     "name": "stdout",
     "output_type": "stream",
     "text": [
      "idx:  2300\n"
     ]
    },
    {
     "name": "stderr",
     "output_type": "stream",
     "text": [
      "2401it [03:48, 11.63it/s]"
     ]
    },
    {
     "name": "stdout",
     "output_type": "stream",
     "text": [
      "idx:  2400\n"
     ]
    },
    {
     "name": "stderr",
     "output_type": "stream",
     "text": [
      "2502it [03:56, 10.26it/s]"
     ]
    },
    {
     "name": "stdout",
     "output_type": "stream",
     "text": [
      "idx:  2500\n"
     ]
    },
    {
     "name": "stderr",
     "output_type": "stream",
     "text": [
      "2602it [04:08,  9.06it/s]"
     ]
    },
    {
     "name": "stdout",
     "output_type": "stream",
     "text": [
      "idx:  2600\n"
     ]
    },
    {
     "name": "stderr",
     "output_type": "stream",
     "text": [
      "2705it [04:17, 18.46it/s]"
     ]
    },
    {
     "name": "stdout",
     "output_type": "stream",
     "text": [
      "idx:  2700\n"
     ]
    },
    {
     "name": "stderr",
     "output_type": "stream",
     "text": [
      "2804it [04:24, 17.92it/s]"
     ]
    },
    {
     "name": "stdout",
     "output_type": "stream",
     "text": [
      "idx:  2800\n"
     ]
    },
    {
     "name": "stderr",
     "output_type": "stream",
     "text": [
      "2902it [04:31, 10.87it/s]"
     ]
    },
    {
     "name": "stdout",
     "output_type": "stream",
     "text": [
      "idx:  2900\n"
     ]
    },
    {
     "name": "stderr",
     "output_type": "stream",
     "text": [
      "3000it [04:38, 16.51it/s]"
     ]
    },
    {
     "name": "stdout",
     "output_type": "stream",
     "text": [
      "idx:  3000\n"
     ]
    },
    {
     "name": "stderr",
     "output_type": "stream",
     "text": [
      "3101it [04:44, 23.94it/s]"
     ]
    },
    {
     "name": "stdout",
     "output_type": "stream",
     "text": [
      "idx:  3100\n"
     ]
    },
    {
     "name": "stderr",
     "output_type": "stream",
     "text": [
      "3196it [04:48, 25.34it/s]"
     ]
    },
    {
     "name": "stdout",
     "output_type": "stream",
     "text": [
      "idx:  3200\n"
     ]
    },
    {
     "name": "stderr",
     "output_type": "stream",
     "text": [
      "3301it [04:51, 44.96it/s]"
     ]
    },
    {
     "name": "stdout",
     "output_type": "stream",
     "text": [
      "idx:  3300\n"
     ]
    },
    {
     "name": "stderr",
     "output_type": "stream",
     "text": [
      "3400it [04:59, 28.62it/s]"
     ]
    },
    {
     "name": "stdout",
     "output_type": "stream",
     "text": [
      "idx:  3400\n"
     ]
    },
    {
     "name": "stderr",
     "output_type": "stream",
     "text": [
      "3504it [05:02, 41.43it/s]"
     ]
    },
    {
     "name": "stdout",
     "output_type": "stream",
     "text": [
      "idx:  3500\n"
     ]
    },
    {
     "name": "stderr",
     "output_type": "stream",
     "text": [
      "3601it [05:06, 44.01it/s]"
     ]
    },
    {
     "name": "stdout",
     "output_type": "stream",
     "text": [
      "idx:  3600\n"
     ]
    },
    {
     "name": "stderr",
     "output_type": "stream",
     "text": [
      "3701it [05:13, 12.96it/s]"
     ]
    },
    {
     "name": "stdout",
     "output_type": "stream",
     "text": [
      "idx:  3700\n"
     ]
    },
    {
     "name": "stderr",
     "output_type": "stream",
     "text": [
      "3803it [05:21, 15.22it/s]"
     ]
    },
    {
     "name": "stdout",
     "output_type": "stream",
     "text": [
      "idx:  3800\n"
     ]
    },
    {
     "name": "stderr",
     "output_type": "stream",
     "text": [
      "3902it [05:28, 18.67it/s]"
     ]
    },
    {
     "name": "stdout",
     "output_type": "stream",
     "text": [
      "idx:  3900\n"
     ]
    },
    {
     "name": "stderr",
     "output_type": "stream",
     "text": [
      "4003it [05:31, 38.88it/s]"
     ]
    },
    {
     "name": "stdout",
     "output_type": "stream",
     "text": [
      "idx:  4000\n"
     ]
    },
    {
     "name": "stderr",
     "output_type": "stream",
     "text": [
      "4115it [05:36, 34.92it/s]"
     ]
    },
    {
     "name": "stdout",
     "output_type": "stream",
     "text": [
      "idx:  4100\n"
     ]
    },
    {
     "name": "stderr",
     "output_type": "stream",
     "text": [
      "4249it [05:37, 150.68it/s]"
     ]
    },
    {
     "name": "stdout",
     "output_type": "stream",
     "text": [
      "idx:  4200\n"
     ]
    },
    {
     "name": "stderr",
     "output_type": "stream",
     "text": [
      "4417it [05:37, 358.14it/s]"
     ]
    },
    {
     "name": "stdout",
     "output_type": "stream",
     "text": [
      "idx:  4300\n",
      "idx:  4400\n"
     ]
    },
    {
     "name": "stderr",
     "output_type": "stream",
     "text": [
      "4499it [05:38, 246.05it/s]"
     ]
    },
    {
     "name": "stdout",
     "output_type": "stream",
     "text": [
      "idx:  4500\n"
     ]
    },
    {
     "name": "stderr",
     "output_type": "stream",
     "text": [
      "4599it [05:46, 15.80it/s] "
     ]
    },
    {
     "name": "stdout",
     "output_type": "stream",
     "text": [
      "idx:  4600\n"
     ]
    },
    {
     "name": "stderr",
     "output_type": "stream",
     "text": [
      "4701it [08:23,  1.09s/it]"
     ]
    },
    {
     "name": "stdout",
     "output_type": "stream",
     "text": [
      "idx:  4700\n"
     ]
    },
    {
     "name": "stderr",
     "output_type": "stream",
     "text": [
      "4801it [10:51,  1.71s/it]"
     ]
    },
    {
     "name": "stdout",
     "output_type": "stream",
     "text": [
      "idx:  4800\n"
     ]
    },
    {
     "name": "stderr",
     "output_type": "stream",
     "text": [
      "4901it [13:07,  1.87it/s]"
     ]
    },
    {
     "name": "stdout",
     "output_type": "stream",
     "text": [
      "idx:  4900\n"
     ]
    },
    {
     "name": "stderr",
     "output_type": "stream",
     "text": [
      "5001it [15:20,  2.47s/it]"
     ]
    },
    {
     "name": "stdout",
     "output_type": "stream",
     "text": [
      "idx:  5000\n"
     ]
    },
    {
     "name": "stderr",
     "output_type": "stream",
     "text": [
      "5116it [17:29,  8.51it/s]"
     ]
    },
    {
     "name": "stdout",
     "output_type": "stream",
     "text": [
      "idx:  5100\n"
     ]
    },
    {
     "name": "stderr",
     "output_type": "stream",
     "text": [
      "5606it [17:30, 363.00it/s]"
     ]
    },
    {
     "name": "stdout",
     "output_type": "stream",
     "text": [
      "idx:  5200\n",
      "idx:  5300\n",
      "idx:  5400\n",
      "idx:  5500\n",
      "idx:  5600\n",
      "idx:  5700\n"
     ]
    },
    {
     "name": "stderr",
     "output_type": "stream",
     "text": [
      "5791it [17:46, 26.08it/s] "
     ]
    },
    {
     "name": "stdout",
     "output_type": "stream",
     "text": [
      "idx:  5800\n"
     ]
    },
    {
     "name": "stderr",
     "output_type": "stream",
     "text": [
      "5909it [17:53, 22.91it/s]"
     ]
    },
    {
     "name": "stdout",
     "output_type": "stream",
     "text": [
      "idx:  5900\n"
     ]
    },
    {
     "name": "stderr",
     "output_type": "stream",
     "text": [
      "6003it [17:57, 17.99it/s]"
     ]
    },
    {
     "name": "stdout",
     "output_type": "stream",
     "text": [
      "idx:  6000\n"
     ]
    },
    {
     "name": "stderr",
     "output_type": "stream",
     "text": [
      "6106it [18:01, 35.22it/s]"
     ]
    },
    {
     "name": "stdout",
     "output_type": "stream",
     "text": [
      "idx:  6100\n"
     ]
    },
    {
     "name": "stderr",
     "output_type": "stream",
     "text": [
      "6202it [18:08,  8.25it/s]"
     ]
    },
    {
     "name": "stdout",
     "output_type": "stream",
     "text": [
      "idx:  6200\n"
     ]
    },
    {
     "name": "stderr",
     "output_type": "stream",
     "text": [
      "6306it [18:19, 20.91it/s]"
     ]
    },
    {
     "name": "stdout",
     "output_type": "stream",
     "text": [
      "idx:  6300\n"
     ]
    },
    {
     "name": "stderr",
     "output_type": "stream",
     "text": [
      "6396it [18:25, 25.09it/s]"
     ]
    },
    {
     "name": "stdout",
     "output_type": "stream",
     "text": [
      "idx:  6400\n"
     ]
    },
    {
     "name": "stderr",
     "output_type": "stream",
     "text": [
      "6500it [18:30, 77.42it/s]"
     ]
    },
    {
     "name": "stdout",
     "output_type": "stream",
     "text": [
      "idx:  6500\n"
     ]
    },
    {
     "name": "stderr",
     "output_type": "stream",
     "text": [
      "6602it [18:42, 14.31it/s]"
     ]
    },
    {
     "name": "stdout",
     "output_type": "stream",
     "text": [
      "idx:  6600\n"
     ]
    },
    {
     "name": "stderr",
     "output_type": "stream",
     "text": [
      "6701it [18:51,  9.90it/s]"
     ]
    },
    {
     "name": "stdout",
     "output_type": "stream",
     "text": [
      "idx:  6700\n"
     ]
    },
    {
     "name": "stderr",
     "output_type": "stream",
     "text": [
      "6801it [18:58, 24.95it/s]"
     ]
    },
    {
     "name": "stdout",
     "output_type": "stream",
     "text": [
      "idx:  6800\n"
     ]
    },
    {
     "name": "stderr",
     "output_type": "stream",
     "text": [
      "6903it [19:11,  5.69it/s]"
     ]
    },
    {
     "name": "stdout",
     "output_type": "stream",
     "text": [
      "idx:  6900\n"
     ]
    },
    {
     "name": "stderr",
     "output_type": "stream",
     "text": [
      "6991it [19:34,  8.86it/s]"
     ]
    },
    {
     "name": "stdout",
     "output_type": "stream",
     "text": [
      "idx:  7000\n"
     ]
    },
    {
     "name": "stderr",
     "output_type": "stream",
     "text": [
      "7106it [19:36, 51.13it/s]"
     ]
    },
    {
     "name": "stdout",
     "output_type": "stream",
     "text": [
      "idx:  7100\n"
     ]
    },
    {
     "name": "stderr",
     "output_type": "stream",
     "text": [
      "7197it [19:36, 146.41it/s]"
     ]
    },
    {
     "name": "stdout",
     "output_type": "stream",
     "text": [
      "idx:  7200\n"
     ]
    },
    {
     "name": "stderr",
     "output_type": "stream",
     "text": [
      "7305it [19:39, 45.09it/s] "
     ]
    },
    {
     "name": "stdout",
     "output_type": "stream",
     "text": [
      "idx:  7300\n"
     ]
    },
    {
     "name": "stderr",
     "output_type": "stream",
     "text": [
      "7424it [19:40, 155.60it/s]"
     ]
    },
    {
     "name": "stdout",
     "output_type": "stream",
     "text": [
      "idx:  7400\n"
     ]
    },
    {
     "name": "stderr",
     "output_type": "stream",
     "text": [
      "7496it [19:40, 79.80it/s] "
     ]
    },
    {
     "name": "stdout",
     "output_type": "stream",
     "text": [
      "idx:  7500\n"
     ]
    },
    {
     "name": "stderr",
     "output_type": "stream",
     "text": [
      "7602it [20:04, 13.40it/s]"
     ]
    },
    {
     "name": "stdout",
     "output_type": "stream",
     "text": [
      "idx:  7600\n"
     ]
    },
    {
     "name": "stderr",
     "output_type": "stream",
     "text": [
      "7694it [20:12, 22.52it/s]"
     ]
    },
    {
     "name": "stdout",
     "output_type": "stream",
     "text": [
      "idx:  7700\n"
     ]
    },
    {
     "name": "stderr",
     "output_type": "stream",
     "text": [
      "7807it [20:15, 41.32it/s]"
     ]
    },
    {
     "name": "stdout",
     "output_type": "stream",
     "text": [
      "idx:  7800\n"
     ]
    },
    {
     "name": "stderr",
     "output_type": "stream",
     "text": [
      "7903it [20:17, 38.66it/s]"
     ]
    },
    {
     "name": "stdout",
     "output_type": "stream",
     "text": [
      "idx:  7900\n"
     ]
    },
    {
     "name": "stderr",
     "output_type": "stream",
     "text": [
      "7999it [20:18, 74.16it/s]"
     ]
    },
    {
     "name": "stdout",
     "output_type": "stream",
     "text": [
      "idx:  8000\n"
     ]
    },
    {
     "name": "stderr",
     "output_type": "stream",
     "text": [
      "8124it [20:20, 104.72it/s]"
     ]
    },
    {
     "name": "stdout",
     "output_type": "stream",
     "text": [
      "idx:  8100\n"
     ]
    },
    {
     "name": "stderr",
     "output_type": "stream",
     "text": [
      "8199it [20:23, 40.94it/s] "
     ]
    },
    {
     "name": "stdout",
     "output_type": "stream",
     "text": [
      "idx:  8200\n"
     ]
    },
    {
     "name": "stderr",
     "output_type": "stream",
     "text": [
      "8302it [20:29, 11.76it/s]"
     ]
    },
    {
     "name": "stdout",
     "output_type": "stream",
     "text": [
      "idx:  8300\n"
     ]
    },
    {
     "name": "stderr",
     "output_type": "stream",
     "text": [
      "8402it [20:39,  8.53it/s]"
     ]
    },
    {
     "name": "stdout",
     "output_type": "stream",
     "text": [
      "idx:  8400\n"
     ]
    },
    {
     "name": "stderr",
     "output_type": "stream",
     "text": [
      "8502it [20:57,  7.13it/s]"
     ]
    },
    {
     "name": "stdout",
     "output_type": "stream",
     "text": [
      "idx:  8500\n"
     ]
    },
    {
     "name": "stderr",
     "output_type": "stream",
     "text": [
      "8602it [21:13,  8.66it/s]"
     ]
    },
    {
     "name": "stdout",
     "output_type": "stream",
     "text": [
      "idx:  8600\n"
     ]
    },
    {
     "name": "stderr",
     "output_type": "stream",
     "text": [
      "8702it [21:30,  5.93it/s]"
     ]
    },
    {
     "name": "stdout",
     "output_type": "stream",
     "text": [
      "idx:  8700\n"
     ]
    },
    {
     "name": "stderr",
     "output_type": "stream",
     "text": [
      "8802it [21:54,  2.77it/s]"
     ]
    },
    {
     "name": "stdout",
     "output_type": "stream",
     "text": [
      "idx:  8800\n"
     ]
    },
    {
     "name": "stderr",
     "output_type": "stream",
     "text": [
      "8902it [22:15,  5.50it/s]"
     ]
    },
    {
     "name": "stdout",
     "output_type": "stream",
     "text": [
      "idx:  8900\n"
     ]
    },
    {
     "name": "stderr",
     "output_type": "stream",
     "text": [
      "9003it [22:28, 10.90it/s]"
     ]
    },
    {
     "name": "stdout",
     "output_type": "stream",
     "text": [
      "idx:  9000\n"
     ]
    },
    {
     "name": "stderr",
     "output_type": "stream",
     "text": [
      "9101it [22:39, 10.70it/s]"
     ]
    },
    {
     "name": "stdout",
     "output_type": "stream",
     "text": [
      "idx:  9100\n"
     ]
    },
    {
     "name": "stderr",
     "output_type": "stream",
     "text": [
      "9201it [22:49, 13.41it/s]"
     ]
    },
    {
     "name": "stdout",
     "output_type": "stream",
     "text": [
      "idx:  9200\n"
     ]
    },
    {
     "name": "stderr",
     "output_type": "stream",
     "text": [
      "9297it [22:54, 22.04it/s]"
     ]
    },
    {
     "name": "stdout",
     "output_type": "stream",
     "text": [
      "idx:  9300\n"
     ]
    },
    {
     "name": "stderr",
     "output_type": "stream",
     "text": [
      "9399it [23:03, 26.28it/s]"
     ]
    },
    {
     "name": "stdout",
     "output_type": "stream",
     "text": [
      "idx:  9400\n"
     ]
    },
    {
     "name": "stderr",
     "output_type": "stream",
     "text": [
      "9499it [23:10, 17.57it/s]"
     ]
    },
    {
     "name": "stdout",
     "output_type": "stream",
     "text": [
      "idx:  9500\n"
     ]
    },
    {
     "name": "stderr",
     "output_type": "stream",
     "text": [
      "9604it [23:18, 14.46it/s]"
     ]
    },
    {
     "name": "stdout",
     "output_type": "stream",
     "text": [
      "idx:  9600\n"
     ]
    },
    {
     "name": "stderr",
     "output_type": "stream",
     "text": [
      "9700it [23:37, 21.36it/s]"
     ]
    },
    {
     "name": "stdout",
     "output_type": "stream",
     "text": [
      "idx:  9700\n"
     ]
    },
    {
     "name": "stderr",
     "output_type": "stream",
     "text": [
      "9805it [23:43, 39.94it/s]"
     ]
    },
    {
     "name": "stdout",
     "output_type": "stream",
     "text": [
      "idx:  9800\n"
     ]
    },
    {
     "name": "stderr",
     "output_type": "stream",
     "text": [
      "9903it [23:48, 28.66it/s]"
     ]
    },
    {
     "name": "stdout",
     "output_type": "stream",
     "text": [
      "idx:  9900\n"
     ]
    },
    {
     "name": "stderr",
     "output_type": "stream",
     "text": [
      "10016it [23:52, 65.98it/s]"
     ]
    },
    {
     "name": "stdout",
     "output_type": "stream",
     "text": [
      "idx:  10000\n"
     ]
    },
    {
     "name": "stderr",
     "output_type": "stream",
     "text": [
      "10102it [23:54, 39.47it/s]"
     ]
    },
    {
     "name": "stdout",
     "output_type": "stream",
     "text": [
      "idx:  10100\n"
     ]
    },
    {
     "name": "stderr",
     "output_type": "stream",
     "text": [
      "10201it [23:55, 118.78it/s]"
     ]
    },
    {
     "name": "stdout",
     "output_type": "stream",
     "text": [
      "idx:  10200\n"
     ]
    },
    {
     "name": "stderr",
     "output_type": "stream",
     "text": [
      "10312it [23:56, 80.18it/s] "
     ]
    },
    {
     "name": "stdout",
     "output_type": "stream",
     "text": [
      "idx:  10300\n"
     ]
    },
    {
     "name": "stderr",
     "output_type": "stream",
     "text": [
      "10403it [24:03, 12.01it/s] "
     ]
    },
    {
     "name": "stdout",
     "output_type": "stream",
     "text": [
      "idx:  10400\n"
     ]
    },
    {
     "name": "stderr",
     "output_type": "stream",
     "text": [
      "10502it [24:16,  7.51it/s]"
     ]
    },
    {
     "name": "stdout",
     "output_type": "stream",
     "text": [
      "idx:  10500\n"
     ]
    },
    {
     "name": "stderr",
     "output_type": "stream",
     "text": [
      "10603it [24:26,  7.56it/s]"
     ]
    },
    {
     "name": "stdout",
     "output_type": "stream",
     "text": [
      "idx:  10600\n"
     ]
    },
    {
     "name": "stderr",
     "output_type": "stream",
     "text": [
      "10704it [24:40, 15.08it/s]"
     ]
    },
    {
     "name": "stdout",
     "output_type": "stream",
     "text": [
      "idx:  10700\n"
     ]
    },
    {
     "name": "stderr",
     "output_type": "stream",
     "text": [
      "10800it [24:52,  9.96it/s]"
     ]
    },
    {
     "name": "stdout",
     "output_type": "stream",
     "text": [
      "idx:  10800\n"
     ]
    },
    {
     "name": "stderr",
     "output_type": "stream",
     "text": [
      "10907it [25:00, 30.60it/s]"
     ]
    },
    {
     "name": "stdout",
     "output_type": "stream",
     "text": [
      "idx:  10900\n"
     ]
    },
    {
     "name": "stderr",
     "output_type": "stream",
     "text": [
      "11005it [25:02, 50.09it/s]"
     ]
    },
    {
     "name": "stdout",
     "output_type": "stream",
     "text": [
      "idx:  11000\n"
     ]
    },
    {
     "name": "stderr",
     "output_type": "stream",
     "text": [
      "11153it [25:04, 205.30it/s]"
     ]
    },
    {
     "name": "stdout",
     "output_type": "stream",
     "text": [
      "idx:  11100\n"
     ]
    },
    {
     "name": "stderr",
     "output_type": "stream",
     "text": [
      "11210it [25:05, 97.32it/s] "
     ]
    },
    {
     "name": "stdout",
     "output_type": "stream",
     "text": [
      "idx:  11200\n"
     ]
    },
    {
     "name": "stderr",
     "output_type": "stream",
     "text": [
      "11303it [25:24,  2.19it/s]"
     ]
    },
    {
     "name": "stdout",
     "output_type": "stream",
     "text": [
      "idx:  11300\n"
     ]
    },
    {
     "name": "stderr",
     "output_type": "stream",
     "text": [
      "11401it [25:51,  1.61it/s]"
     ]
    },
    {
     "name": "stdout",
     "output_type": "stream",
     "text": [
      "idx:  11400\n"
     ]
    },
    {
     "name": "stderr",
     "output_type": "stream",
     "text": [
      "11502it [26:14, 17.16it/s]"
     ]
    },
    {
     "name": "stdout",
     "output_type": "stream",
     "text": [
      "idx:  11500\n"
     ]
    },
    {
     "name": "stderr",
     "output_type": "stream",
     "text": [
      "11602it [26:17, 29.86it/s]"
     ]
    },
    {
     "name": "stdout",
     "output_type": "stream",
     "text": [
      "idx:  11600\n"
     ]
    },
    {
     "name": "stderr",
     "output_type": "stream",
     "text": [
      "11698it [26:19, 70.76it/s]"
     ]
    },
    {
     "name": "stdout",
     "output_type": "stream",
     "text": [
      "idx:  11700\n"
     ]
    },
    {
     "name": "stderr",
     "output_type": "stream",
     "text": [
      "11802it [26:22, 35.29it/s] "
     ]
    },
    {
     "name": "stdout",
     "output_type": "stream",
     "text": [
      "idx:  11800\n"
     ]
    },
    {
     "name": "stderr",
     "output_type": "stream",
     "text": [
      "11913it [26:24, 66.32it/s]"
     ]
    },
    {
     "name": "stdout",
     "output_type": "stream",
     "text": [
      "idx:  11900\n"
     ]
    },
    {
     "name": "stderr",
     "output_type": "stream",
     "text": [
      "12004it [26:28, 22.73it/s]"
     ]
    },
    {
     "name": "stdout",
     "output_type": "stream",
     "text": [
      "idx:  12000\n"
     ]
    },
    {
     "name": "stderr",
     "output_type": "stream",
     "text": [
      "12111it [26:37, 40.21it/s]"
     ]
    },
    {
     "name": "stdout",
     "output_type": "stream",
     "text": [
      "idx:  12100\n"
     ]
    },
    {
     "name": "stderr",
     "output_type": "stream",
     "text": [
      "12206it [26:40, 47.22it/s]"
     ]
    },
    {
     "name": "stdout",
     "output_type": "stream",
     "text": [
      "idx:  12200\n"
     ]
    },
    {
     "name": "stderr",
     "output_type": "stream",
     "text": [
      "12304it [26:42, 36.48it/s]"
     ]
    },
    {
     "name": "stdout",
     "output_type": "stream",
     "text": [
      "idx:  12300\n"
     ]
    },
    {
     "name": "stderr",
     "output_type": "stream",
     "text": [
      "12415it [26:45, 57.66it/s]"
     ]
    },
    {
     "name": "stdout",
     "output_type": "stream",
     "text": [
      "idx:  12400\n"
     ]
    },
    {
     "name": "stderr",
     "output_type": "stream",
     "text": [
      "12505it [26:47, 35.96it/s]"
     ]
    },
    {
     "name": "stdout",
     "output_type": "stream",
     "text": [
      "idx:  12500\n"
     ]
    },
    {
     "name": "stderr",
     "output_type": "stream",
     "text": [
      "12600it [26:55,  9.86it/s]"
     ]
    },
    {
     "name": "stdout",
     "output_type": "stream",
     "text": [
      "idx:  12600\n"
     ]
    },
    {
     "name": "stderr",
     "output_type": "stream",
     "text": [
      "12701it [27:07,  5.71it/s]"
     ]
    },
    {
     "name": "stdout",
     "output_type": "stream",
     "text": [
      "idx:  12700\n"
     ]
    },
    {
     "name": "stderr",
     "output_type": "stream",
     "text": [
      "12801it [27:18, 16.23it/s]"
     ]
    },
    {
     "name": "stdout",
     "output_type": "stream",
     "text": [
      "idx:  12800\n"
     ]
    },
    {
     "name": "stderr",
     "output_type": "stream",
     "text": [
      "12901it [27:32,  8.71it/s]"
     ]
    },
    {
     "name": "stdout",
     "output_type": "stream",
     "text": [
      "idx:  12900\n"
     ]
    },
    {
     "name": "stderr",
     "output_type": "stream",
     "text": [
      "13002it [27:43,  7.55it/s]"
     ]
    },
    {
     "name": "stdout",
     "output_type": "stream",
     "text": [
      "idx:  13000\n"
     ]
    },
    {
     "name": "stderr",
     "output_type": "stream",
     "text": [
      "13101it [27:58,  7.25it/s]"
     ]
    },
    {
     "name": "stdout",
     "output_type": "stream",
     "text": [
      "idx:  13100\n"
     ]
    },
    {
     "name": "stderr",
     "output_type": "stream",
     "text": [
      "13201it [28:08, 16.31it/s]"
     ]
    },
    {
     "name": "stdout",
     "output_type": "stream",
     "text": [
      "idx:  13200\n"
     ]
    },
    {
     "name": "stderr",
     "output_type": "stream",
     "text": [
      "13302it [28:21, 13.41it/s]"
     ]
    },
    {
     "name": "stdout",
     "output_type": "stream",
     "text": [
      "idx:  13300\n"
     ]
    },
    {
     "name": "stderr",
     "output_type": "stream",
     "text": [
      "13407it [28:24, 35.57it/s]"
     ]
    },
    {
     "name": "stdout",
     "output_type": "stream",
     "text": [
      "idx:  13400\n"
     ]
    },
    {
     "name": "stderr",
     "output_type": "stream",
     "text": [
      "13507it [28:26, 59.78it/s]"
     ]
    },
    {
     "name": "stdout",
     "output_type": "stream",
     "text": [
      "idx:  13500\n"
     ]
    },
    {
     "name": "stderr",
     "output_type": "stream",
     "text": [
      "13625it [28:28, 112.03it/s]"
     ]
    },
    {
     "name": "stdout",
     "output_type": "stream",
     "text": [
      "idx:  13600\n"
     ]
    },
    {
     "name": "stderr",
     "output_type": "stream",
     "text": [
      "13719it [28:28, 142.42it/s]"
     ]
    },
    {
     "name": "stdout",
     "output_type": "stream",
     "text": [
      "idx:  13700\n"
     ]
    },
    {
     "name": "stderr",
     "output_type": "stream",
     "text": [
      "13802it [28:29, 143.76it/s]"
     ]
    },
    {
     "name": "stdout",
     "output_type": "stream",
     "text": [
      "idx:  13800\n"
     ]
    },
    {
     "name": "stderr",
     "output_type": "stream",
     "text": [
      "13903it [28:34, 46.76it/s] "
     ]
    },
    {
     "name": "stdout",
     "output_type": "stream",
     "text": [
      "idx:  13900\n"
     ]
    },
    {
     "name": "stderr",
     "output_type": "stream",
     "text": [
      "14004it [28:36, 35.36it/s]"
     ]
    },
    {
     "name": "stdout",
     "output_type": "stream",
     "text": [
      "idx:  14000\n"
     ]
    },
    {
     "name": "stderr",
     "output_type": "stream",
     "text": [
      "14102it [28:42, 14.54it/s]"
     ]
    },
    {
     "name": "stdout",
     "output_type": "stream",
     "text": [
      "idx:  14100\n"
     ]
    },
    {
     "name": "stderr",
     "output_type": "stream",
     "text": [
      "14204it [28:50, 18.20it/s]"
     ]
    },
    {
     "name": "stdout",
     "output_type": "stream",
     "text": [
      "idx:  14200\n"
     ]
    },
    {
     "name": "stderr",
     "output_type": "stream",
     "text": [
      "14302it [28:54, 22.38it/s]"
     ]
    },
    {
     "name": "stdout",
     "output_type": "stream",
     "text": [
      "idx:  14300\n"
     ]
    },
    {
     "name": "stderr",
     "output_type": "stream",
     "text": [
      "14405it [28:57, 26.96it/s]"
     ]
    },
    {
     "name": "stdout",
     "output_type": "stream",
     "text": [
      "idx:  14400\n"
     ]
    },
    {
     "name": "stderr",
     "output_type": "stream",
     "text": [
      "14505it [29:02, 40.01it/s]"
     ]
    },
    {
     "name": "stdout",
     "output_type": "stream",
     "text": [
      "idx:  14500\n"
     ]
    },
    {
     "name": "stderr",
     "output_type": "stream",
     "text": [
      "14602it [29:12,  6.66it/s]"
     ]
    },
    {
     "name": "stdout",
     "output_type": "stream",
     "text": [
      "idx:  14600\n"
     ]
    },
    {
     "name": "stderr",
     "output_type": "stream",
     "text": [
      "14702it [29:30,  6.23it/s]"
     ]
    },
    {
     "name": "stdout",
     "output_type": "stream",
     "text": [
      "idx:  14700\n"
     ]
    },
    {
     "name": "stderr",
     "output_type": "stream",
     "text": [
      "14802it [29:51,  7.24it/s]"
     ]
    },
    {
     "name": "stdout",
     "output_type": "stream",
     "text": [
      "idx:  14800\n"
     ]
    },
    {
     "name": "stderr",
     "output_type": "stream",
     "text": [
      "14902it [30:08,  7.56it/s]"
     ]
    },
    {
     "name": "stdout",
     "output_type": "stream",
     "text": [
      "idx:  14900\n"
     ]
    },
    {
     "name": "stderr",
     "output_type": "stream",
     "text": [
      "15001it [30:23,  7.30it/s]"
     ]
    },
    {
     "name": "stdout",
     "output_type": "stream",
     "text": [
      "idx:  15000\n"
     ]
    },
    {
     "name": "stderr",
     "output_type": "stream",
     "text": [
      "15102it [30:40, 11.24it/s]"
     ]
    },
    {
     "name": "stdout",
     "output_type": "stream",
     "text": [
      "idx:  15100\n"
     ]
    },
    {
     "name": "stderr",
     "output_type": "stream",
     "text": [
      "15202it [30:49, 10.87it/s]"
     ]
    },
    {
     "name": "stdout",
     "output_type": "stream",
     "text": [
      "idx:  15200\n"
     ]
    },
    {
     "name": "stderr",
     "output_type": "stream",
     "text": [
      "15302it [30:56, 16.76it/s]"
     ]
    },
    {
     "name": "stdout",
     "output_type": "stream",
     "text": [
      "idx:  15300\n"
     ]
    },
    {
     "name": "stderr",
     "output_type": "stream",
     "text": [
      "15402it [31:05,  9.87it/s]"
     ]
    },
    {
     "name": "stdout",
     "output_type": "stream",
     "text": [
      "idx:  15400\n"
     ]
    },
    {
     "name": "stderr",
     "output_type": "stream",
     "text": [
      "15503it [31:12, 14.60it/s]"
     ]
    },
    {
     "name": "stdout",
     "output_type": "stream",
     "text": [
      "idx:  15500\n"
     ]
    },
    {
     "name": "stderr",
     "output_type": "stream",
     "text": [
      "15602it [31:23,  9.20it/s]"
     ]
    },
    {
     "name": "stdout",
     "output_type": "stream",
     "text": [
      "idx:  15600\n"
     ]
    },
    {
     "name": "stderr",
     "output_type": "stream",
     "text": [
      "15700it [31:37,  4.76it/s]"
     ]
    },
    {
     "name": "stdout",
     "output_type": "stream",
     "text": [
      "idx:  15700\n"
     ]
    },
    {
     "name": "stderr",
     "output_type": "stream",
     "text": [
      "15803it [31:48, 11.22it/s]"
     ]
    },
    {
     "name": "stdout",
     "output_type": "stream",
     "text": [
      "idx:  15800\n"
     ]
    },
    {
     "name": "stderr",
     "output_type": "stream",
     "text": [
      "15901it [32:00, 14.82it/s]"
     ]
    },
    {
     "name": "stdout",
     "output_type": "stream",
     "text": [
      "idx:  15900\n"
     ]
    },
    {
     "name": "stderr",
     "output_type": "stream",
     "text": [
      "16001it [32:11, 10.07it/s]"
     ]
    },
    {
     "name": "stdout",
     "output_type": "stream",
     "text": [
      "idx:  16000\n"
     ]
    },
    {
     "name": "stderr",
     "output_type": "stream",
     "text": [
      "16103it [32:26,  8.82it/s]"
     ]
    },
    {
     "name": "stdout",
     "output_type": "stream",
     "text": [
      "idx:  16100\n"
     ]
    },
    {
     "name": "stderr",
     "output_type": "stream",
     "text": [
      "16205it [32:40,  9.30it/s]"
     ]
    },
    {
     "name": "stdout",
     "output_type": "stream",
     "text": [
      "idx:  16200\n"
     ]
    },
    {
     "name": "stderr",
     "output_type": "stream",
     "text": [
      "16302it [32:52,  8.68it/s]"
     ]
    },
    {
     "name": "stdout",
     "output_type": "stream",
     "text": [
      "idx:  16300\n"
     ]
    },
    {
     "name": "stderr",
     "output_type": "stream",
     "text": [
      "16399it [33:07,  4.87it/s]"
     ]
    },
    {
     "name": "stdout",
     "output_type": "stream",
     "text": [
      "idx:  16400\n"
     ]
    },
    {
     "name": "stderr",
     "output_type": "stream",
     "text": [
      "16502it [33:26,  3.68it/s]"
     ]
    },
    {
     "name": "stdout",
     "output_type": "stream",
     "text": [
      "idx:  16500\n"
     ]
    },
    {
     "name": "stderr",
     "output_type": "stream",
     "text": [
      "16601it [33:37,  9.20it/s]"
     ]
    },
    {
     "name": "stdout",
     "output_type": "stream",
     "text": [
      "idx:  16600\n"
     ]
    },
    {
     "name": "stderr",
     "output_type": "stream",
     "text": [
      "16702it [33:49, 14.18it/s]"
     ]
    },
    {
     "name": "stdout",
     "output_type": "stream",
     "text": [
      "idx:  16700\n"
     ]
    },
    {
     "name": "stderr",
     "output_type": "stream",
     "text": [
      "16802it [34:00,  8.76it/s]"
     ]
    },
    {
     "name": "stdout",
     "output_type": "stream",
     "text": [
      "idx:  16800\n"
     ]
    },
    {
     "name": "stderr",
     "output_type": "stream",
     "text": [
      "16901it [34:12, 12.04it/s]"
     ]
    },
    {
     "name": "stdout",
     "output_type": "stream",
     "text": [
      "idx:  16900\n"
     ]
    },
    {
     "name": "stderr",
     "output_type": "stream",
     "text": [
      "17005it [34:34, 26.84it/s]"
     ]
    },
    {
     "name": "stdout",
     "output_type": "stream",
     "text": [
      "idx:  17000\n"
     ]
    },
    {
     "name": "stderr",
     "output_type": "stream",
     "text": [
      "17098it [34:35, 93.48it/s]"
     ]
    },
    {
     "name": "stdout",
     "output_type": "stream",
     "text": [
      "idx:  17100\n"
     ]
    },
    {
     "name": "stderr",
     "output_type": "stream",
     "text": [
      "17213it [34:36, 142.27it/s]"
     ]
    },
    {
     "name": "stdout",
     "output_type": "stream",
     "text": [
      "idx:  17200\n"
     ]
    },
    {
     "name": "stderr",
     "output_type": "stream",
     "text": [
      "17353it [34:37, 235.77it/s]"
     ]
    },
    {
     "name": "stdout",
     "output_type": "stream",
     "text": [
      "idx:  17300\n",
      "idx:  17400\n"
     ]
    },
    {
     "name": "stderr",
     "output_type": "stream",
     "text": [
      "17501it [34:46, 14.57it/s] "
     ]
    },
    {
     "name": "stdout",
     "output_type": "stream",
     "text": [
      "idx:  17500\n"
     ]
    },
    {
     "name": "stderr",
     "output_type": "stream",
     "text": [
      "17602it [35:02,  8.27it/s]"
     ]
    },
    {
     "name": "stdout",
     "output_type": "stream",
     "text": [
      "idx:  17600\n"
     ]
    },
    {
     "name": "stderr",
     "output_type": "stream",
     "text": [
      "17702it [35:11,  9.10it/s]"
     ]
    },
    {
     "name": "stdout",
     "output_type": "stream",
     "text": [
      "idx:  17700\n"
     ]
    },
    {
     "name": "stderr",
     "output_type": "stream",
     "text": [
      "17801it [35:23, 11.73it/s]"
     ]
    },
    {
     "name": "stdout",
     "output_type": "stream",
     "text": [
      "idx:  17800\n"
     ]
    },
    {
     "name": "stderr",
     "output_type": "stream",
     "text": [
      "17904it [35:36, 14.49it/s]"
     ]
    },
    {
     "name": "stdout",
     "output_type": "stream",
     "text": [
      "idx:  17900\n"
     ]
    },
    {
     "name": "stderr",
     "output_type": "stream",
     "text": [
      "18000it [35:45, 18.85it/s]"
     ]
    },
    {
     "name": "stdout",
     "output_type": "stream",
     "text": [
      "idx:  18000\n"
     ]
    },
    {
     "name": "stderr",
     "output_type": "stream",
     "text": [
      "18100it [39:26,  1.06it/s]"
     ]
    },
    {
     "name": "stdout",
     "output_type": "stream",
     "text": [
      "idx:  18100\n"
     ]
    },
    {
     "name": "stderr",
     "output_type": "stream",
     "text": [
      "18202it [43:51,  5.89it/s]"
     ]
    },
    {
     "name": "stdout",
     "output_type": "stream",
     "text": [
      "idx:  18200\n"
     ]
    },
    {
     "name": "stderr",
     "output_type": "stream",
     "text": [
      "18302it [43:56, 28.78it/s]"
     ]
    },
    {
     "name": "stdout",
     "output_type": "stream",
     "text": [
      "idx:  18300\n"
     ]
    },
    {
     "name": "stderr",
     "output_type": "stream",
     "text": [
      "18401it [43:59, 22.94it/s]"
     ]
    },
    {
     "name": "stdout",
     "output_type": "stream",
     "text": [
      "idx:  18400\n"
     ]
    },
    {
     "name": "stderr",
     "output_type": "stream",
     "text": [
      "18497it [44:03, 39.20it/s]"
     ]
    },
    {
     "name": "stdout",
     "output_type": "stream",
     "text": [
      "idx:  18500\n"
     ]
    },
    {
     "name": "stderr",
     "output_type": "stream",
     "text": [
      "18602it [44:51, 11.65it/s]"
     ]
    },
    {
     "name": "stdout",
     "output_type": "stream",
     "text": [
      "idx:  18600\n"
     ]
    },
    {
     "name": "stderr",
     "output_type": "stream",
     "text": [
      "18794it [44:56, 357.54it/s]"
     ]
    },
    {
     "name": "stdout",
     "output_type": "stream",
     "text": [
      "idx:  18700\n",
      "idx:  18800\n",
      "idx:  18900\n"
     ]
    },
    {
     "name": "stderr",
     "output_type": "stream",
     "text": [
      "19118it [44:56, 707.65it/s]"
     ]
    },
    {
     "name": "stdout",
     "output_type": "stream",
     "text": [
      "idx:  19000\n",
      "idx:  19100\n"
     ]
    },
    {
     "name": "stderr",
     "output_type": "stream",
     "text": [
      "\r",
      "19191it [45:04, 30.65it/s] "
     ]
    },
    {
     "name": "stdout",
     "output_type": "stream",
     "text": [
      "idx:  19200\n"
     ]
    },
    {
     "name": "stderr",
     "output_type": "stream",
     "text": [
      "19278it [45:14, 16.62it/s]"
     ]
    },
    {
     "name": "stdout",
     "output_type": "stream",
     "text": [
      "idx:  19300\n"
     ]
    },
    {
     "name": "stderr",
     "output_type": "stream",
     "text": [
      "19403it [45:26, 13.43it/s]"
     ]
    },
    {
     "name": "stdout",
     "output_type": "stream",
     "text": [
      "idx:  19400\n"
     ]
    },
    {
     "name": "stderr",
     "output_type": "stream",
     "text": [
      "19503it [45:34, 11.65it/s]"
     ]
    },
    {
     "name": "stdout",
     "output_type": "stream",
     "text": [
      "idx:  19500\n"
     ]
    },
    {
     "name": "stderr",
     "output_type": "stream",
     "text": [
      "19601it [45:51,  2.55it/s]"
     ]
    },
    {
     "name": "stdout",
     "output_type": "stream",
     "text": [
      "idx:  19600\n"
     ]
    },
    {
     "name": "stderr",
     "output_type": "stream",
     "text": [
      "19702it [46:08,  8.74it/s]"
     ]
    },
    {
     "name": "stdout",
     "output_type": "stream",
     "text": [
      "idx:  19700\n"
     ]
    },
    {
     "name": "stderr",
     "output_type": "stream",
     "text": [
      "19805it [46:15, 17.33it/s]"
     ]
    },
    {
     "name": "stdout",
     "output_type": "stream",
     "text": [
      "idx:  19800\n"
     ]
    },
    {
     "name": "stderr",
     "output_type": "stream",
     "text": [
      "19902it [46:26, 13.14it/s]"
     ]
    },
    {
     "name": "stdout",
     "output_type": "stream",
     "text": [
      "idx:  19900\n"
     ]
    },
    {
     "name": "stderr",
     "output_type": "stream",
     "text": [
      "20004it [46:33, 20.45it/s]"
     ]
    },
    {
     "name": "stdout",
     "output_type": "stream",
     "text": [
      "idx:  20000\n"
     ]
    },
    {
     "name": "stderr",
     "output_type": "stream",
     "text": [
      "20105it [46:40, 21.42it/s]"
     ]
    },
    {
     "name": "stdout",
     "output_type": "stream",
     "text": [
      "idx:  20100\n"
     ]
    },
    {
     "name": "stderr",
     "output_type": "stream",
     "text": [
      "20201it [46:52,  6.62it/s]"
     ]
    },
    {
     "name": "stdout",
     "output_type": "stream",
     "text": [
      "idx:  20200\n"
     ]
    },
    {
     "name": "stderr",
     "output_type": "stream",
     "text": [
      "20303it [47:00, 22.03it/s]"
     ]
    },
    {
     "name": "stdout",
     "output_type": "stream",
     "text": [
      "idx:  20300\n"
     ]
    },
    {
     "name": "stderr",
     "output_type": "stream",
     "text": [
      "20403it [47:15,  5.48it/s]"
     ]
    },
    {
     "name": "stdout",
     "output_type": "stream",
     "text": [
      "idx:  20400\n"
     ]
    },
    {
     "name": "stderr",
     "output_type": "stream",
     "text": [
      "20502it [47:22, 18.41it/s]"
     ]
    },
    {
     "name": "stdout",
     "output_type": "stream",
     "text": [
      "idx:  20500\n"
     ]
    },
    {
     "name": "stderr",
     "output_type": "stream",
     "text": [
      "20604it [47:30, 19.79it/s]"
     ]
    },
    {
     "name": "stdout",
     "output_type": "stream",
     "text": [
      "idx:  20600\n"
     ]
    },
    {
     "name": "stderr",
     "output_type": "stream",
     "text": [
      "20700it [47:41, 13.70it/s]"
     ]
    },
    {
     "name": "stdout",
     "output_type": "stream",
     "text": [
      "idx:  20700\n"
     ]
    },
    {
     "name": "stderr",
     "output_type": "stream",
     "text": [
      "20800it [47:46, 19.18it/s]"
     ]
    },
    {
     "name": "stdout",
     "output_type": "stream",
     "text": [
      "idx:  20800\n"
     ]
    },
    {
     "name": "stderr",
     "output_type": "stream",
     "text": [
      "20903it [48:41,  3.97it/s]"
     ]
    },
    {
     "name": "stdout",
     "output_type": "stream",
     "text": [
      "idx:  20900\n"
     ]
    },
    {
     "name": "stderr",
     "output_type": "stream",
     "text": [
      "21010it [49:05, 16.03it/s]"
     ]
    },
    {
     "name": "stdout",
     "output_type": "stream",
     "text": [
      "idx:  21000\n"
     ]
    },
    {
     "name": "stderr",
     "output_type": "stream",
     "text": [
      "21101it [49:17,  2.78it/s]"
     ]
    },
    {
     "name": "stdout",
     "output_type": "stream",
     "text": [
      "idx:  21100\n"
     ]
    },
    {
     "name": "stderr",
     "output_type": "stream",
     "text": [
      "21204it [49:34,  6.67it/s]"
     ]
    },
    {
     "name": "stdout",
     "output_type": "stream",
     "text": [
      "idx:  21200\n"
     ]
    },
    {
     "name": "stderr",
     "output_type": "stream",
     "text": [
      "21301it [49:55,  2.57it/s]"
     ]
    },
    {
     "name": "stdout",
     "output_type": "stream",
     "text": [
      "idx:  21300\n"
     ]
    },
    {
     "name": "stderr",
     "output_type": "stream",
     "text": [
      "21401it [50:10, 10.85it/s]"
     ]
    },
    {
     "name": "stdout",
     "output_type": "stream",
     "text": [
      "idx:  21400\n"
     ]
    },
    {
     "name": "stderr",
     "output_type": "stream",
     "text": [
      "21500it [50:15, 20.48it/s]"
     ]
    },
    {
     "name": "stdout",
     "output_type": "stream",
     "text": [
      "idx:  21500\n"
     ]
    },
    {
     "name": "stderr",
     "output_type": "stream",
     "text": [
      "21588it [50:22,  4.07it/s]"
     ]
    },
    {
     "name": "stdout",
     "output_type": "stream",
     "text": [
      "idx:  21600\n"
     ]
    },
    {
     "name": "stderr",
     "output_type": "stream",
     "text": [
      "21702it [50:50,  3.74it/s]"
     ]
    },
    {
     "name": "stdout",
     "output_type": "stream",
     "text": [
      "idx:  21700\n"
     ]
    },
    {
     "name": "stderr",
     "output_type": "stream",
     "text": [
      "21806it [51:01, 35.54it/s]"
     ]
    },
    {
     "name": "stdout",
     "output_type": "stream",
     "text": [
      "idx:  21800\n"
     ]
    },
    {
     "name": "stderr",
     "output_type": "stream",
     "text": [
      "21903it [51:05, 24.63it/s]"
     ]
    },
    {
     "name": "stdout",
     "output_type": "stream",
     "text": [
      "idx:  21900\n"
     ]
    },
    {
     "name": "stderr",
     "output_type": "stream",
     "text": [
      "22005it [51:08, 42.61it/s]"
     ]
    },
    {
     "name": "stdout",
     "output_type": "stream",
     "text": [
      "idx:  22000\n"
     ]
    },
    {
     "name": "stderr",
     "output_type": "stream",
     "text": [
      "22100it [51:11, 25.77it/s]"
     ]
    },
    {
     "name": "stdout",
     "output_type": "stream",
     "text": [
      "idx:  22100\n"
     ]
    },
    {
     "name": "stderr",
     "output_type": "stream",
     "text": [
      "22202it [51:20, 11.95it/s]"
     ]
    },
    {
     "name": "stdout",
     "output_type": "stream",
     "text": [
      "idx:  22200\n"
     ]
    },
    {
     "name": "stderr",
     "output_type": "stream",
     "text": [
      "22302it [51:27, 19.27it/s]"
     ]
    },
    {
     "name": "stdout",
     "output_type": "stream",
     "text": [
      "idx:  22300\n"
     ]
    },
    {
     "name": "stderr",
     "output_type": "stream",
     "text": [
      "22403it [51:34, 15.86it/s]"
     ]
    },
    {
     "name": "stdout",
     "output_type": "stream",
     "text": [
      "idx:  22400\n"
     ]
    },
    {
     "name": "stderr",
     "output_type": "stream",
     "text": [
      "22502it [51:41, 12.67it/s]"
     ]
    },
    {
     "name": "stdout",
     "output_type": "stream",
     "text": [
      "idx:  22500\n"
     ]
    },
    {
     "name": "stderr",
     "output_type": "stream",
     "text": [
      "22606it [51:49, 12.71it/s]"
     ]
    },
    {
     "name": "stdout",
     "output_type": "stream",
     "text": [
      "idx:  22600\n"
     ]
    },
    {
     "name": "stderr",
     "output_type": "stream",
     "text": [
      "22701it [51:59,  5.16it/s]"
     ]
    },
    {
     "name": "stdout",
     "output_type": "stream",
     "text": [
      "idx:  22700\n"
     ]
    },
    {
     "name": "stderr",
     "output_type": "stream",
     "text": [
      "22799it [52:10, 12.43it/s]"
     ]
    },
    {
     "name": "stdout",
     "output_type": "stream",
     "text": [
      "idx:  22800\n"
     ]
    },
    {
     "name": "stderr",
     "output_type": "stream",
     "text": [
      "22903it [52:21, 12.46it/s]"
     ]
    },
    {
     "name": "stdout",
     "output_type": "stream",
     "text": [
      "idx:  22900\n"
     ]
    },
    {
     "name": "stderr",
     "output_type": "stream",
     "text": [
      "23002it [52:37,  6.93it/s]"
     ]
    },
    {
     "name": "stdout",
     "output_type": "stream",
     "text": [
      "idx:  23000\n"
     ]
    },
    {
     "name": "stderr",
     "output_type": "stream",
     "text": [
      "23101it [52:50,  9.92it/s]"
     ]
    },
    {
     "name": "stdout",
     "output_type": "stream",
     "text": [
      "idx:  23100\n"
     ]
    },
    {
     "name": "stderr",
     "output_type": "stream",
     "text": [
      "23201it [53:01,  9.46it/s]"
     ]
    },
    {
     "name": "stdout",
     "output_type": "stream",
     "text": [
      "idx:  23200\n"
     ]
    },
    {
     "name": "stderr",
     "output_type": "stream",
     "text": [
      "23310it [53:06, 76.35it/s]"
     ]
    },
    {
     "name": "stdout",
     "output_type": "stream",
     "text": [
      "idx:  23300\n"
     ]
    },
    {
     "name": "stderr",
     "output_type": "stream",
     "text": [
      "23401it [53:15,  9.95it/s]"
     ]
    },
    {
     "name": "stdout",
     "output_type": "stream",
     "text": [
      "idx:  23400\n"
     ]
    },
    {
     "name": "stderr",
     "output_type": "stream",
     "text": [
      "23502it [53:27, 10.21it/s]"
     ]
    },
    {
     "name": "stdout",
     "output_type": "stream",
     "text": [
      "idx:  23500\n"
     ]
    },
    {
     "name": "stderr",
     "output_type": "stream",
     "text": [
      "23602it [53:38,  9.78it/s]"
     ]
    },
    {
     "name": "stdout",
     "output_type": "stream",
     "text": [
      "idx:  23600\n"
     ]
    },
    {
     "name": "stderr",
     "output_type": "stream",
     "text": [
      "23700it [53:45, 15.66it/s]"
     ]
    },
    {
     "name": "stdout",
     "output_type": "stream",
     "text": [
      "idx:  23700\n"
     ]
    },
    {
     "name": "stderr",
     "output_type": "stream",
     "text": [
      "23801it [53:54, 15.08it/s]"
     ]
    },
    {
     "name": "stdout",
     "output_type": "stream",
     "text": [
      "idx:  23800\n"
     ]
    },
    {
     "name": "stderr",
     "output_type": "stream",
     "text": [
      "23902it [54:03, 14.21it/s]"
     ]
    },
    {
     "name": "stdout",
     "output_type": "stream",
     "text": [
      "idx:  23900\n"
     ]
    },
    {
     "name": "stderr",
     "output_type": "stream",
     "text": [
      "24001it [54:43,  2.33it/s]"
     ]
    },
    {
     "name": "stdout",
     "output_type": "stream",
     "text": [
      "idx:  24000\n"
     ]
    },
    {
     "name": "stderr",
     "output_type": "stream",
     "text": [
      "24100it [55:33,  1.61it/s]"
     ]
    },
    {
     "name": "stdout",
     "output_type": "stream",
     "text": [
      "idx:  24100\n"
     ]
    },
    {
     "name": "stderr",
     "output_type": "stream",
     "text": [
      "24201it [55:49, 18.23it/s]"
     ]
    },
    {
     "name": "stdout",
     "output_type": "stream",
     "text": [
      "idx:  24200\n"
     ]
    },
    {
     "name": "stderr",
     "output_type": "stream",
     "text": [
      "24301it [56:06,  6.25it/s]"
     ]
    },
    {
     "name": "stdout",
     "output_type": "stream",
     "text": [
      "idx:  24300\n"
     ]
    },
    {
     "name": "stderr",
     "output_type": "stream",
     "text": [
      "24407it [56:24,  3.83it/s]"
     ]
    },
    {
     "name": "stdout",
     "output_type": "stream",
     "text": [
      "idx:  24400\n"
     ]
    },
    {
     "name": "stderr",
     "output_type": "stream",
     "text": [
      "24504it [56:37, 14.08it/s]"
     ]
    },
    {
     "name": "stdout",
     "output_type": "stream",
     "text": [
      "idx:  24500\n"
     ]
    },
    {
     "name": "stderr",
     "output_type": "stream",
     "text": [
      "24604it [56:46, 16.31it/s]"
     ]
    },
    {
     "name": "stdout",
     "output_type": "stream",
     "text": [
      "idx:  24600\n"
     ]
    },
    {
     "name": "stderr",
     "output_type": "stream",
     "text": [
      "24707it [56:46, 112.98it/s]"
     ]
    },
    {
     "name": "stdout",
     "output_type": "stream",
     "text": [
      "idx:  24700\n"
     ]
    },
    {
     "name": "stderr",
     "output_type": "stream",
     "text": [
      "24804it [57:01,  7.07it/s] "
     ]
    },
    {
     "name": "stdout",
     "output_type": "stream",
     "text": [
      "idx:  24800\n"
     ]
    },
    {
     "name": "stderr",
     "output_type": "stream",
     "text": [
      "24902it [57:06, 25.11it/s]"
     ]
    },
    {
     "name": "stdout",
     "output_type": "stream",
     "text": [
      "idx:  24900\n"
     ]
    },
    {
     "name": "stderr",
     "output_type": "stream",
     "text": [
      "25001it [57:19,  8.83it/s]"
     ]
    },
    {
     "name": "stdout",
     "output_type": "stream",
     "text": [
      "idx:  25000\n"
     ]
    },
    {
     "name": "stderr",
     "output_type": "stream",
     "text": [
      "25105it [57:27, 55.73it/s]"
     ]
    },
    {
     "name": "stdout",
     "output_type": "stream",
     "text": [
      "idx:  25100\n"
     ]
    },
    {
     "name": "stderr",
     "output_type": "stream",
     "text": [
      "25205it [57:30, 48.27it/s]"
     ]
    },
    {
     "name": "stdout",
     "output_type": "stream",
     "text": [
      "idx:  25200\n"
     ]
    },
    {
     "name": "stderr",
     "output_type": "stream",
     "text": [
      "25300it [57:35, 21.40it/s]"
     ]
    },
    {
     "name": "stdout",
     "output_type": "stream",
     "text": [
      "idx:  25300\n"
     ]
    },
    {
     "name": "stderr",
     "output_type": "stream",
     "text": [
      "25410it [57:45, 55.43it/s]"
     ]
    },
    {
     "name": "stdout",
     "output_type": "stream",
     "text": [
      "idx:  25400\n"
     ]
    },
    {
     "name": "stderr",
     "output_type": "stream",
     "text": [
      "25501it [58:03,  9.38it/s]"
     ]
    },
    {
     "name": "stdout",
     "output_type": "stream",
     "text": [
      "idx:  25500\n"
     ]
    },
    {
     "name": "stderr",
     "output_type": "stream",
     "text": [
      "25601it [58:15, 17.11it/s]"
     ]
    },
    {
     "name": "stdout",
     "output_type": "stream",
     "text": [
      "idx:  25600\n"
     ]
    },
    {
     "name": "stderr",
     "output_type": "stream",
     "text": [
      "25700it [58:32, 53.80it/s]"
     ]
    },
    {
     "name": "stdout",
     "output_type": "stream",
     "text": [
      "idx:  25700\n"
     ]
    },
    {
     "name": "stderr",
     "output_type": "stream",
     "text": [
      "25801it [58:40,  3.41it/s]"
     ]
    },
    {
     "name": "stdout",
     "output_type": "stream",
     "text": [
      "idx:  25800\n"
     ]
    },
    {
     "name": "stderr",
     "output_type": "stream",
     "text": [
      "25904it [58:51, 24.48it/s]"
     ]
    },
    {
     "name": "stdout",
     "output_type": "stream",
     "text": [
      "idx:  25900\n"
     ]
    },
    {
     "name": "stderr",
     "output_type": "stream",
     "text": [
      "26002it [59:05,  8.21it/s]"
     ]
    },
    {
     "name": "stdout",
     "output_type": "stream",
     "text": [
      "idx:  26000\n"
     ]
    },
    {
     "name": "stderr",
     "output_type": "stream",
     "text": [
      "26102it [59:20, 11.91it/s]"
     ]
    },
    {
     "name": "stdout",
     "output_type": "stream",
     "text": [
      "idx:  26100\n"
     ]
    },
    {
     "name": "stderr",
     "output_type": "stream",
     "text": [
      "26202it [1:00:00,  4.61it/s]"
     ]
    },
    {
     "name": "stdout",
     "output_type": "stream",
     "text": [
      "idx:  26200\n"
     ]
    },
    {
     "name": "stderr",
     "output_type": "stream",
     "text": [
      "26302it [1:00:30,  7.52it/s]"
     ]
    },
    {
     "name": "stdout",
     "output_type": "stream",
     "text": [
      "idx:  26300\n"
     ]
    },
    {
     "name": "stderr",
     "output_type": "stream",
     "text": [
      "26402it [1:01:01, 16.79it/s]"
     ]
    },
    {
     "name": "stdout",
     "output_type": "stream",
     "text": [
      "idx:  26400\n"
     ]
    },
    {
     "name": "stderr",
     "output_type": "stream",
     "text": [
      "26514it [1:01:03, 81.49it/s]"
     ]
    },
    {
     "name": "stdout",
     "output_type": "stream",
     "text": [
      "idx:  26500\n"
     ]
    },
    {
     "name": "stderr",
     "output_type": "stream",
     "text": [
      "26602it [1:01:04, 109.05it/s]"
     ]
    },
    {
     "name": "stdout",
     "output_type": "stream",
     "text": [
      "idx:  26600\n"
     ]
    },
    {
     "name": "stderr",
     "output_type": "stream",
     "text": [
      "26701it [1:01:21, 17.79it/s] "
     ]
    },
    {
     "name": "stdout",
     "output_type": "stream",
     "text": [
      "idx:  26700\n"
     ]
    },
    {
     "name": "stderr",
     "output_type": "stream",
     "text": [
      "26800it [1:01:38, 14.53it/s]"
     ]
    },
    {
     "name": "stdout",
     "output_type": "stream",
     "text": [
      "idx:  26800\n"
     ]
    },
    {
     "name": "stderr",
     "output_type": "stream",
     "text": [
      "26903it [1:04:13,  1.32it/s]"
     ]
    },
    {
     "name": "stdout",
     "output_type": "stream",
     "text": [
      "idx:  26900\n"
     ]
    },
    {
     "name": "stderr",
     "output_type": "stream",
     "text": [
      "27005it [1:04:19, 66.23it/s]"
     ]
    },
    {
     "name": "stdout",
     "output_type": "stream",
     "text": [
      "idx:  27000\n"
     ]
    },
    {
     "name": "stderr",
     "output_type": "stream",
     "text": [
      "27102it [1:05:05,  9.73it/s]"
     ]
    },
    {
     "name": "stdout",
     "output_type": "stream",
     "text": [
      "idx:  27100\n"
     ]
    },
    {
     "name": "stderr",
     "output_type": "stream",
     "text": [
      "27200it [1:05:16,  9.03it/s]"
     ]
    },
    {
     "name": "stdout",
     "output_type": "stream",
     "text": [
      "idx:  27200\n"
     ]
    },
    {
     "name": "stderr",
     "output_type": "stream",
     "text": [
      "27304it [1:05:43, 15.15it/s]"
     ]
    },
    {
     "name": "stdout",
     "output_type": "stream",
     "text": [
      "idx:  27300\n"
     ]
    },
    {
     "name": "stderr",
     "output_type": "stream",
     "text": [
      "27402it [1:06:16,  2.72it/s]"
     ]
    },
    {
     "name": "stdout",
     "output_type": "stream",
     "text": [
      "idx:  27400\n"
     ]
    },
    {
     "name": "stderr",
     "output_type": "stream",
     "text": [
      "27502it [1:06:33,  7.41it/s]"
     ]
    },
    {
     "name": "stdout",
     "output_type": "stream",
     "text": [
      "idx:  27500\n"
     ]
    },
    {
     "name": "stderr",
     "output_type": "stream",
     "text": [
      "27605it [1:06:45, 14.85it/s]"
     ]
    },
    {
     "name": "stdout",
     "output_type": "stream",
     "text": [
      "idx:  27600\n"
     ]
    },
    {
     "name": "stderr",
     "output_type": "stream",
     "text": [
      "27690it [1:06:59,  6.89it/s]\n"
     ]
    }
   ],
   "source": [
    "import ast \n",
    "from tqdm import tqdm \n",
    "\n",
    "qid_alias = {}\n",
    "\n",
    "for idx, row in tqdm(enumerate(df_orig['s2_ID'])):\n",
    "    row_alias = []\n",
    "    for entity in ast.literal_eval(row):\n",
    "        if entity in qid_alias:\n",
    "            row_alias.append(qid_alias[entity])\n",
    "        else:\n",
    "            a = get_alias(entity)\n",
    "            row_alias.append(a)\n",
    "            qid_alias[entity] = a\n",
    "    \n",
    "    df_orig.at[idx, 's2_alias'] = row_alias\n",
    "    if idx%100 == 0:\n",
    "        print(\"idx: \", idx)"
   ]
  },
  {
   "cell_type": "code",
   "execution_count": 32,
   "id": "2a9bf21c",
   "metadata": {},
   "outputs": [
    {
     "data": {
      "text/html": [
       "<div>\n",
       "<style scoped>\n",
       "    .dataframe tbody tr th:only-of-type {\n",
       "        vertical-align: middle;\n",
       "    }\n",
       "\n",
       "    .dataframe tbody tr th {\n",
       "        vertical-align: top;\n",
       "    }\n",
       "\n",
       "    .dataframe thead th {\n",
       "        text-align: right;\n",
       "    }\n",
       "</style>\n",
       "<table border=\"1\" class=\"dataframe\">\n",
       "  <thead>\n",
       "    <tr style=\"text-align: right;\">\n",
       "      <th></th>\n",
       "      <th>Unnamed: 0</th>\n",
       "      <th>Unnamed: 0.1</th>\n",
       "      <th>s1</th>\n",
       "      <th>property</th>\n",
       "      <th>s2</th>\n",
       "      <th>s1_ID</th>\n",
       "      <th>property_ID</th>\n",
       "      <th>s2_ID</th>\n",
       "      <th>question</th>\n",
       "      <th>s2_alias</th>\n",
       "    </tr>\n",
       "  </thead>\n",
       "  <tbody>\n",
       "    <tr>\n",
       "      <th>0</th>\n",
       "      <td>0</td>\n",
       "      <td>0</td>\n",
       "      <td>Poslíček lásky</td>\n",
       "      <td>original language of film or TV show</td>\n",
       "      <td>['Czech']</td>\n",
       "      <td>Q19580810</td>\n",
       "      <td>P364</td>\n",
       "      <td>['Q9056']</td>\n",
       "      <td>What is the original language of film or TV sh...</td>\n",
       "      <td>[[Czech language, cs]]</td>\n",
       "    </tr>\n",
       "    <tr>\n",
       "      <th>1</th>\n",
       "      <td>1</td>\n",
       "      <td>1</td>\n",
       "      <td>A Time to Love and a Time to Die</td>\n",
       "      <td>original language of film or TV show</td>\n",
       "      <td>['English']</td>\n",
       "      <td>Q185834</td>\n",
       "      <td>P364</td>\n",
       "      <td>['Q1860']</td>\n",
       "      <td>What is the original language of film or TV sh...</td>\n",
       "      <td>[[English language, en, eng]]</td>\n",
       "    </tr>\n",
       "    <tr>\n",
       "      <th>2</th>\n",
       "      <td>2</td>\n",
       "      <td>2</td>\n",
       "      <td>Jumping Ship</td>\n",
       "      <td>original language of film or TV show</td>\n",
       "      <td>['English']</td>\n",
       "      <td>Q1763592</td>\n",
       "      <td>P364</td>\n",
       "      <td>['Q1860']</td>\n",
       "      <td>What is the original language of film or TV sh...</td>\n",
       "      <td>[[English language, en, eng]]</td>\n",
       "    </tr>\n",
       "    <tr>\n",
       "      <th>3</th>\n",
       "      <td>3</td>\n",
       "      <td>3</td>\n",
       "      <td>Broadway: The Golden Age, by the Legends Who W...</td>\n",
       "      <td>original language of film or TV show</td>\n",
       "      <td>['English']</td>\n",
       "      <td>Q4972372</td>\n",
       "      <td>P364</td>\n",
       "      <td>['Q1860']</td>\n",
       "      <td>What is the original language of film or TV sh...</td>\n",
       "      <td>[[English language, en, eng]]</td>\n",
       "    </tr>\n",
       "    <tr>\n",
       "      <th>4</th>\n",
       "      <td>4</td>\n",
       "      <td>4</td>\n",
       "      <td>Kickboxer: Vengeance</td>\n",
       "      <td>original language of film or TV show</td>\n",
       "      <td>['English']</td>\n",
       "      <td>Q17582629</td>\n",
       "      <td>P364</td>\n",
       "      <td>['Q1860']</td>\n",
       "      <td>What is the original language of film or TV sh...</td>\n",
       "      <td>[[English language, en, eng]]</td>\n",
       "    </tr>\n",
       "  </tbody>\n",
       "</table>\n",
       "</div>"
      ],
      "text/plain": [
       "   Unnamed: 0  Unnamed: 0.1  \\\n",
       "0           0             0   \n",
       "1           1             1   \n",
       "2           2             2   \n",
       "3           3             3   \n",
       "4           4             4   \n",
       "\n",
       "                                                  s1  \\\n",
       "0                                     Poslíček lásky   \n",
       "1                   A Time to Love and a Time to Die   \n",
       "2                                       Jumping Ship   \n",
       "3  Broadway: The Golden Age, by the Legends Who W...   \n",
       "4                               Kickboxer: Vengeance   \n",
       "\n",
       "                               property           s2      s1_ID property_ID  \\\n",
       "0  original language of film or TV show    ['Czech']  Q19580810        P364   \n",
       "1  original language of film or TV show  ['English']    Q185834        P364   \n",
       "2  original language of film or TV show  ['English']   Q1763592        P364   \n",
       "3  original language of film or TV show  ['English']   Q4972372        P364   \n",
       "4  original language of film or TV show  ['English']  Q17582629        P364   \n",
       "\n",
       "       s2_ID                                           question  \\\n",
       "0  ['Q9056']  What is the original language of film or TV sh...   \n",
       "1  ['Q1860']  What is the original language of film or TV sh...   \n",
       "2  ['Q1860']  What is the original language of film or TV sh...   \n",
       "3  ['Q1860']  What is the original language of film or TV sh...   \n",
       "4  ['Q1860']  What is the original language of film or TV sh...   \n",
       "\n",
       "                        s2_alias  \n",
       "0         [[Czech language, cs]]  \n",
       "1  [[English language, en, eng]]  \n",
       "2  [[English language, en, eng]]  \n",
       "3  [[English language, en, eng]]  \n",
       "4  [[English language, en, eng]]  "
      ]
     },
     "execution_count": 32,
     "metadata": {},
     "output_type": "execute_result"
    }
   ],
   "source": [
    "df_orig.head()"
   ]
  },
  {
   "cell_type": "code",
   "execution_count": 33,
   "id": "751df540",
   "metadata": {},
   "outputs": [
    {
     "data": {
      "text/html": [
       "<div>\n",
       "<style scoped>\n",
       "    .dataframe tbody tr th:only-of-type {\n",
       "        vertical-align: middle;\n",
       "    }\n",
       "\n",
       "    .dataframe tbody tr th {\n",
       "        vertical-align: top;\n",
       "    }\n",
       "\n",
       "    .dataframe thead th {\n",
       "        text-align: right;\n",
       "    }\n",
       "</style>\n",
       "<table border=\"1\" class=\"dataframe\">\n",
       "  <thead>\n",
       "    <tr style=\"text-align: right;\">\n",
       "      <th></th>\n",
       "      <th>s1</th>\n",
       "      <th>property</th>\n",
       "      <th>s2</th>\n",
       "      <th>s1_ID</th>\n",
       "      <th>property_ID</th>\n",
       "      <th>s2_ID</th>\n",
       "      <th>question</th>\n",
       "      <th>s2_alias</th>\n",
       "    </tr>\n",
       "  </thead>\n",
       "  <tbody>\n",
       "    <tr>\n",
       "      <th>0</th>\n",
       "      <td>Poslíček lásky</td>\n",
       "      <td>original language of film or TV show</td>\n",
       "      <td>['Czech']</td>\n",
       "      <td>Q19580810</td>\n",
       "      <td>P364</td>\n",
       "      <td>['Q9056']</td>\n",
       "      <td>What is the original language of film or TV sh...</td>\n",
       "      <td>[[Czech language, cs]]</td>\n",
       "    </tr>\n",
       "    <tr>\n",
       "      <th>1</th>\n",
       "      <td>A Time to Love and a Time to Die</td>\n",
       "      <td>original language of film or TV show</td>\n",
       "      <td>['English']</td>\n",
       "      <td>Q185834</td>\n",
       "      <td>P364</td>\n",
       "      <td>['Q1860']</td>\n",
       "      <td>What is the original language of film or TV sh...</td>\n",
       "      <td>[[English language, en, eng]]</td>\n",
       "    </tr>\n",
       "    <tr>\n",
       "      <th>2</th>\n",
       "      <td>Jumping Ship</td>\n",
       "      <td>original language of film or TV show</td>\n",
       "      <td>['English']</td>\n",
       "      <td>Q1763592</td>\n",
       "      <td>P364</td>\n",
       "      <td>['Q1860']</td>\n",
       "      <td>What is the original language of film or TV sh...</td>\n",
       "      <td>[[English language, en, eng]]</td>\n",
       "    </tr>\n",
       "    <tr>\n",
       "      <th>3</th>\n",
       "      <td>Broadway: The Golden Age, by the Legends Who W...</td>\n",
       "      <td>original language of film or TV show</td>\n",
       "      <td>['English']</td>\n",
       "      <td>Q4972372</td>\n",
       "      <td>P364</td>\n",
       "      <td>['Q1860']</td>\n",
       "      <td>What is the original language of film or TV sh...</td>\n",
       "      <td>[[English language, en, eng]]</td>\n",
       "    </tr>\n",
       "    <tr>\n",
       "      <th>4</th>\n",
       "      <td>Kickboxer: Vengeance</td>\n",
       "      <td>original language of film or TV show</td>\n",
       "      <td>['English']</td>\n",
       "      <td>Q17582629</td>\n",
       "      <td>P364</td>\n",
       "      <td>['Q1860']</td>\n",
       "      <td>What is the original language of film or TV sh...</td>\n",
       "      <td>[[English language, en, eng]]</td>\n",
       "    </tr>\n",
       "    <tr>\n",
       "      <th>...</th>\n",
       "      <td>...</td>\n",
       "      <td>...</td>\n",
       "      <td>...</td>\n",
       "      <td>...</td>\n",
       "      <td>...</td>\n",
       "      <td>...</td>\n",
       "      <td>...</td>\n",
       "      <td>...</td>\n",
       "    </tr>\n",
       "    <tr>\n",
       "      <th>27685</th>\n",
       "      <td>Blanquefort-sur-Briolance</td>\n",
       "      <td>intangible cultural heritage status</td>\n",
       "      <td>['Inventory of intangible cultural heritage in...</td>\n",
       "      <td>Q1063876</td>\n",
       "      <td>P3259</td>\n",
       "      <td>['Q21011287']</td>\n",
       "      <td>What is the intangible cultural heritage statu...</td>\n",
       "      <td>[[]]</td>\n",
       "    </tr>\n",
       "    <tr>\n",
       "      <th>27686</th>\n",
       "      <td>Complutensian Polyglot Bible</td>\n",
       "      <td>printed by</td>\n",
       "      <td>['Arnaldo Guillén Brocar']</td>\n",
       "      <td>Q1121746</td>\n",
       "      <td>P872</td>\n",
       "      <td>['Q2863032']</td>\n",
       "      <td>Who printed Complutensian Polyglot Bible?</td>\n",
       "      <td>[[Arnaldo Guillen Brocar]]</td>\n",
       "    </tr>\n",
       "    <tr>\n",
       "      <th>27687</th>\n",
       "      <td>MCSim</td>\n",
       "      <td>determination method</td>\n",
       "      <td>['Monte Carlo method', 'Bayesian statistics', ...</td>\n",
       "      <td>Q3093297</td>\n",
       "      <td>P459</td>\n",
       "      <td>['Q232207', 'Q4874481', 'Q1191869']</td>\n",
       "      <td>What determination method is used in MCSim?</td>\n",
       "      <td>[[MC method, Monte Carlo experiments, MC exper...</td>\n",
       "    </tr>\n",
       "    <tr>\n",
       "      <th>27688</th>\n",
       "      <td>Windows XP</td>\n",
       "      <td>removed feature</td>\n",
       "      <td>['AppleTalk']</td>\n",
       "      <td>Q11248</td>\n",
       "      <td>P756</td>\n",
       "      <td>['Q200606']</td>\n",
       "      <td>Which feature was removed in Windows XP?</td>\n",
       "      <td>[[]]</td>\n",
       "    </tr>\n",
       "    <tr>\n",
       "      <th>27689</th>\n",
       "      <td>hydrogen cyanide</td>\n",
       "      <td>tautomer of</td>\n",
       "      <td>['hydrogen isocyanide']</td>\n",
       "      <td>Q26075</td>\n",
       "      <td>P6185</td>\n",
       "      <td>['Q1107746']</td>\n",
       "      <td>What is hydrogen cyanide a tautomer of?</td>\n",
       "      <td>[[CNH, hydroisocyanic acid, HNC, HN(+)#C(-)]]</td>\n",
       "    </tr>\n",
       "  </tbody>\n",
       "</table>\n",
       "<p>27690 rows × 8 columns</p>\n",
       "</div>"
      ],
      "text/plain": [
       "                                                      s1  \\\n",
       "0                                         Poslíček lásky   \n",
       "1                       A Time to Love and a Time to Die   \n",
       "2                                           Jumping Ship   \n",
       "3      Broadway: The Golden Age, by the Legends Who W...   \n",
       "4                                   Kickboxer: Vengeance   \n",
       "...                                                  ...   \n",
       "27685                          Blanquefort-sur-Briolance   \n",
       "27686                       Complutensian Polyglot Bible   \n",
       "27687                                              MCSim   \n",
       "27688                                         Windows XP   \n",
       "27689                                   hydrogen cyanide   \n",
       "\n",
       "                                   property  \\\n",
       "0      original language of film or TV show   \n",
       "1      original language of film or TV show   \n",
       "2      original language of film or TV show   \n",
       "3      original language of film or TV show   \n",
       "4      original language of film or TV show   \n",
       "...                                     ...   \n",
       "27685   intangible cultural heritage status   \n",
       "27686                            printed by   \n",
       "27687                  determination method   \n",
       "27688                       removed feature   \n",
       "27689                           tautomer of   \n",
       "\n",
       "                                                      s2      s1_ID  \\\n",
       "0                                              ['Czech']  Q19580810   \n",
       "1                                            ['English']    Q185834   \n",
       "2                                            ['English']   Q1763592   \n",
       "3                                            ['English']   Q4972372   \n",
       "4                                            ['English']  Q17582629   \n",
       "...                                                  ...        ...   \n",
       "27685  ['Inventory of intangible cultural heritage in...   Q1063876   \n",
       "27686                         ['Arnaldo Guillén Brocar']   Q1121746   \n",
       "27687  ['Monte Carlo method', 'Bayesian statistics', ...   Q3093297   \n",
       "27688                                      ['AppleTalk']     Q11248   \n",
       "27689                            ['hydrogen isocyanide']     Q26075   \n",
       "\n",
       "      property_ID                                s2_ID  \\\n",
       "0            P364                            ['Q9056']   \n",
       "1            P364                            ['Q1860']   \n",
       "2            P364                            ['Q1860']   \n",
       "3            P364                            ['Q1860']   \n",
       "4            P364                            ['Q1860']   \n",
       "...           ...                                  ...   \n",
       "27685       P3259                        ['Q21011287']   \n",
       "27686        P872                         ['Q2863032']   \n",
       "27687        P459  ['Q232207', 'Q4874481', 'Q1191869']   \n",
       "27688        P756                          ['Q200606']   \n",
       "27689       P6185                         ['Q1107746']   \n",
       "\n",
       "                                                question  \\\n",
       "0      What is the original language of film or TV sh...   \n",
       "1      What is the original language of film or TV sh...   \n",
       "2      What is the original language of film or TV sh...   \n",
       "3      What is the original language of film or TV sh...   \n",
       "4      What is the original language of film or TV sh...   \n",
       "...                                                  ...   \n",
       "27685  What is the intangible cultural heritage statu...   \n",
       "27686          Who printed Complutensian Polyglot Bible?   \n",
       "27687        What determination method is used in MCSim?   \n",
       "27688           Which feature was removed in Windows XP?   \n",
       "27689            What is hydrogen cyanide a tautomer of?   \n",
       "\n",
       "                                                s2_alias  \n",
       "0                                 [[Czech language, cs]]  \n",
       "1                          [[English language, en, eng]]  \n",
       "2                          [[English language, en, eng]]  \n",
       "3                          [[English language, en, eng]]  \n",
       "4                          [[English language, en, eng]]  \n",
       "...                                                  ...  \n",
       "27685                                               [[]]  \n",
       "27686                         [[Arnaldo Guillen Brocar]]  \n",
       "27687  [[MC method, Monte Carlo experiments, MC exper...  \n",
       "27688                                               [[]]  \n",
       "27689      [[CNH, hydroisocyanic acid, HNC, HN(+)#C(-)]]  \n",
       "\n",
       "[27690 rows x 8 columns]"
      ]
     },
     "execution_count": 33,
     "metadata": {},
     "output_type": "execute_result"
    }
   ],
   "source": [
    "df_orig_ = df_orig[[\"s1\", \"property\", \"s2\", \"s1_ID\", \"property_ID\", \"s2_ID\", \"question\", \"s2_alias\"]]\n",
    "df_orig_"
   ]
  },
  {
   "cell_type": "code",
   "execution_count": 34,
   "id": "d8ef4506",
   "metadata": {},
   "outputs": [],
   "source": [
    "df_orig_.to_csv(\"/home/selvansr/capstone/wikipedia/baseline_data/head_triplets_30k_alias.tsv\")"
   ]
  }
 ],
 "metadata": {
  "kernelspec": {
   "display_name": "Python 3",
   "language": "python",
   "name": "python3"
  },
  "language_info": {
   "codemirror_mode": {
    "name": "ipython",
    "version": 3
   },
   "file_extension": ".py",
   "mimetype": "text/x-python",
   "name": "python",
   "nbconvert_exporter": "python",
   "pygments_lexer": "ipython3",
   "version": "3.6.13"
  }
 },
 "nbformat": 4,
 "nbformat_minor": 5
}
