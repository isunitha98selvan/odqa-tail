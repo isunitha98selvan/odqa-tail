{
 "cells": [
  {
   "cell_type": "code",
   "execution_count": null,
   "metadata": {},
   "outputs": [],
   "source": [
    "cd /home/rohankum/capstone/notebooks"
   ]
  },
  {
   "cell_type": "code",
   "execution_count": null,
   "metadata": {},
   "outputs": [],
   "source": [
    "import openai, os\n",
    "openai.api_key = '<add key here>'\n",
    "from tenacity import (\n",
    "    retry,\n",
    "    stop_after_attempt,\n",
    "    wait_random_exponential,\n",
    ")  # for exponential backoff\n",
    "import pandas as pd\n",
    "pd.set_option('display.max_colwidth', None)\n",
    "from joblib import Parallel, delayed\n",
    "from tqdm import tqdm\n",
    "import ast, random"
   ]
  },
  {
   "cell_type": "code",
   "execution_count": null,
   "metadata": {},
   "outputs": [],
   "source": [
    "@retry(wait=wait_random_exponential(min=1, max=60), stop=stop_after_attempt(6))\n",
    "def completion_with_backoff(**kwargs):\n",
    "    return openai.Completion.create(**kwargs)"
   ]
  },
  {
   "cell_type": "code",
   "execution_count": null,
   "metadata": {},
   "outputs": [],
   "source": [
    "%%timeit\n",
    "\n",
    "completion_with_backoff(model=\"text-davinci-003\", prompt=\"Once upon a time,\")"
   ]
  },
  {
   "cell_type": "code",
   "execution_count": null,
   "metadata": {},
   "outputs": [],
   "source": [
    "df = pd.read_csv('../data/tail_1ksampled_alias.csv', index_col=0)\n",
    "del df['answers']\n",
    "df.s2 = df.s2.apply(ast.literal_eval)\n",
    "df.head()"
   ]
  },
  {
   "cell_type": "code",
   "execution_count": null,
   "metadata": {},
   "outputs": [],
   "source": [
    "def get_que_gpt3(df, cols = ['s1', 'property', 's2']):\n",
    "    if 'question' in df.columns:\n",
    "        print('Error: already contains que')\n",
    "        return df\n",
    "    \n",
    "    prompt = '''generate questions:\n",
    "\n",
    "    obama | born | hawaii => where was obama born?\n",
    "\n",
    "    sky | color | blue => what color is the sky?\n",
    "\n",
    "    {} | {} | {} =>'''\n",
    "\n",
    "    api_response = Parallel(n_jobs=15, backend='multiprocessing')(delayed(completion_with_backoff)(model=\"text-davinci-003\", prompt=prompt.format(s1, p, s2)) \\\n",
    "                                                                    for s1, p, s2 in tqdm(df[cols].values))\n",
    "    questions = [x.choices[0].text.strip() for x in api_response]\n",
    "    df['question'] = questions\n",
    "    df['api_response'] = api_response\n",
    "    \n",
    "    return df\n",
    "\n",
    "\n",
    "def get_ans_gpt3(df, question_col = 'question'):\n",
    "    prompt_answer = '''answer questions:\n",
    "    where was obama born? => hawaii\n",
    "    what color is the sky? => blue\n",
    "    {} =>'''\n",
    "\n",
    "    api_response = Parallel(n_jobs=15, backend='multiprocessing')(delayed(completion_with_backoff)(model=\"text-davinci-003\", prompt=prompt_answer.format(que)) \\\n",
    "                                                                    for que in tqdm(df[question_col]))\n",
    "    answers = [x.choices[0].text.strip() for x in api_response]\n",
    "    df['answer'] = answers\n",
    "    df['api_response_answer'] = api_response\n",
    "    \n",
    "    return df"
   ]
  },
  {
   "cell_type": "code",
   "execution_count": null,
   "metadata": {},
   "outputs": [],
   "source": [
    "df['s2_random'] = df['s2'].apply(random.choice)\n",
    "df.head()"
   ]
  },
  {
   "cell_type": "code",
   "execution_count": null,
   "metadata": {},
   "outputs": [],
   "source": [
    "df = get_que_gpt3(df, cols=['s1', 'property', 's2_random'])"
   ]
  },
  {
   "cell_type": "code",
   "execution_count": null,
   "metadata": {},
   "outputs": [],
   "source": [
    "df = get_ans_gpt3(df)"
   ]
  },
  {
   "cell_type": "code",
   "execution_count": null,
   "metadata": {},
   "outputs": [],
   "source": [
    "df"
   ]
  },
  {
   "cell_type": "code",
   "execution_count": null,
   "metadata": {},
   "outputs": [],
   "source": [
    "# df.to_csv('../data/tail2.0_1ksampled_alias_with_gpt3_qa.csv')"
   ]
  }
 ],
 "metadata": {
  "kernelspec": {
   "display_name": "Python 3 (ipykernel)",
   "language": "python",
   "name": "python3"
  },
  "language_info": {
   "codemirror_mode": {
    "name": "ipython",
    "version": 3
   },
   "file_extension": ".py",
   "mimetype": "text/x-python",
   "name": "python",
   "nbconvert_exporter": "python",
   "pygments_lexer": "ipython3",
   "version": "3.7.13"
  },
  "orig_nbformat": 4,
  "vscode": {
   "interpreter": {
    "hash": "12fa93325308c1b2485bc0222ace5d7f64912ac5785408d73e92d50e6ca51dee"
   }
  }
 },
 "nbformat": 4,
 "nbformat_minor": 2
}
